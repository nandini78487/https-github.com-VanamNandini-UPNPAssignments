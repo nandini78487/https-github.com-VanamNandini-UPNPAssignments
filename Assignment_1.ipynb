{
  "nbformat": 4,
  "nbformat_minor": 0,
  "metadata": {
    "colab": {
      "name": "Assignment_1.ipynb",
      "provenance": []
    },
    "kernelspec": {
      "name": "python3",
      "display_name": "Python 3"
    },
    "language_info": {
      "name": "python"
    }
  },
  "cells": [
    {
      "cell_type": "markdown",
      "source": [
        "Problem 1 :\n",
        "Your friend measures his body temperature using a thermometer and finds the reading to be 100 degree Farenheit.Can you please let us know the reading in Celsius scale ?"
      ],
      "metadata": {
        "id": "x8o1JEgJp2My"
      }
    },
    {
      "cell_type": "code",
      "source": [
        "F=100\n",
        "c=((F-32)*5)/9\n",
        "print(c)"
      ],
      "metadata": {
        "colab": {
          "base_uri": "https://localhost:8080/"
        },
        "id": "cyIUBwRMqrdo",
        "outputId": "13cd6233-aca9-4277-dc5a-5c69c6ae2d3e"
      },
      "execution_count": 1,
      "outputs": [
        {
          "output_type": "stream",
          "name": "stdout",
          "text": [
            "37.77777777777778\n"
          ]
        }
      ]
    },
    {
      "cell_type": "markdown",
      "source": [
        "Problem 2 :\n",
        "The cost of producing x unit of item in a factory is y.Cost y is releated to unit x by the following formula y=ax^2+bx+c where a, b, c are constants having value 2, 5, 1020 respectively.In this text (not in python language)^reprsents raised to the power .If management wants to produce 10,000 quantities of product ,please let us know the average manufacture cost for a single item.\n"
      ],
      "metadata": {
        "id": "6ei2yD98rh8F"
      }
    },
    {
      "cell_type": "code",
      "source": [
        "x=10000\n",
        "a=2\n",
        "b=5\n",
        "c=1020\n",
        "y=(a*(x**2))+(b*x)+c\n",
        "y1=y/x\n",
        "print(y1)"
      ],
      "metadata": {
        "colab": {
          "base_uri": "https://localhost:8080/"
        },
        "id": "2BfDna9410rM",
        "outputId": "56f8f813-8159-4726-8ab4-e40110518a89"
      },
      "execution_count": 2,
      "outputs": [
        {
          "output_type": "stream",
          "name": "stdout",
          "text": [
            "20005.102\n"
          ]
        }
      ]
    }
  ]
}