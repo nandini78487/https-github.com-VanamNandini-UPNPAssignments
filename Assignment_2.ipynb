{
  "nbformat": 4,
  "nbformat_minor": 0,
  "metadata": {
    "colab": {
      "name": "Assignment_2.ipynb",
      "provenance": []
    },
    "kernelspec": {
      "name": "python3",
      "display_name": "Python 3"
    },
    "language_info": {
      "name": "python"
    }
  },
  "cells": [
    {
      "cell_type": "markdown",
      "source": [
        "This is our assignment on conditional statement and looping"
      ],
      "metadata": {
        "id": "Zh_LgSRP7x_q"
      }
    },
    {
      "cell_type": "markdown",
      "source": [
        "Problem 1 :\n",
        "\n",
        "Write a small program to check a number is divisible by 7 or not"
      ],
      "metadata": {
        "id": "5cLILsom8CT8"
      }
    },
    {
      "cell_type": "code",
      "source": [
        "x=7\n",
        "if  (x%7)==0:\n",
        "    print(\"yes divisible by 7\")\n",
        "else:\n",
        "    print(\"not divisible by 7\")  "
      ],
      "metadata": {
        "colab": {
          "base_uri": "https://localhost:8080/"
        },
        "id": "twqmnY2d8SAG",
        "outputId": "1429911e-f38d-4ba6-8e5c-83f1dbc02a7c"
      },
      "execution_count": 4,
      "outputs": [
        {
          "output_type": "stream",
          "name": "stdout",
          "text": [
            "yes divisible by 7\n"
          ]
        }
      ]
    },
    {
      "cell_type": "markdown",
      "source": [
        "Problem 2  \n",
        "If a number is divisible by either 5 or 7,then we call it a 'five-or-seven' number.\n",
        "Write down a program to check if a number is 'five-or-seven' number or not. "
      ],
      "metadata": {
        "id": "bKmLMTDr86Fp"
      }
    },
    {
      "cell_type": "code",
      "source": [
        "x=12\n",
        "if x%5==0 and x%7==0:\n",
        "  print(\"divisible by both 5 and 7\")\n",
        "elif x%5==0:\n",
        "  print(\"only divisible by 5\") \n",
        "elif x%7==0:\n",
        "  print(\"only divisible by 7\")\n",
        "else:\n",
        "  print(\"not divisible by any\")     "
      ],
      "metadata": {
        "colab": {
          "base_uri": "https://localhost:8080/"
        },
        "id": "aR0ygiLA94Jq",
        "outputId": "39d2522b-afd0-4815-9b3b-8bcbbdb83e49"
      },
      "execution_count": 5,
      "outputs": [
        {
          "output_type": "stream",
          "name": "stdout",
          "text": [
            "not divisible by any\n"
          ]
        }
      ]
    },
    {
      "cell_type": "markdown",
      "source": [
        "Problem 3 \n",
        "\n",
        "Write a program to calculate then eletricity bill(accept nuber of unit from user)according to the following criteria:\n",
        "\n",
        "upto first 100 units Rs.3 per unit.\n",
        "\n",
        "Next 100 units Rs.5 per unit.\n",
        "\n",
        "Next 300 units Rs.7 per unit.\n",
        "\n",
        "Above that, for each unit exceeding 500, Rs. 10 per unit flat.\n"
      ],
      "metadata": {
        "id": "JLgr1dp-BZCS"
      }
    },
    {
      "cell_type": "code",
      "source": [
        "x=1000\n",
        "if x>=0 and x<=100:\n",
        "  bill=x*3\n",
        "elif(x>100 and x<=200):\n",
        "  bill=x*5\n",
        "elif(x>200 and x<=500):\n",
        "  bill=x*7\n",
        "elif(x>500):\n",
        "  bill=x*10\n",
        "print(bill)        "
      ],
      "metadata": {
        "colab": {
          "base_uri": "https://localhost:8080/"
        },
        "id": "oJw39-UwDamy",
        "outputId": "47278a5a-1d94-4f6d-dea6-5533ee1631cc"
      },
      "execution_count": 6,
      "outputs": [
        {
          "output_type": "stream",
          "name": "stdout",
          "text": [
            "10000\n"
          ]
        }
      ]
    },
    {
      "cell_type": "markdown",
      "source": [
        "Problem 4:\n",
        "\n",
        "Find out sum of square of all the numbers upto 10,starting from 1"
      ],
      "metadata": {
        "id": "3d2Ep8w6EXYs"
      }
    },
    {
      "cell_type": "code",
      "source": [
        "n=10\n",
        "sum=(n*(n+1)*((2*n)+1))/6\n",
        "print(sum)"
      ],
      "metadata": {
        "colab": {
          "base_uri": "https://localhost:8080/"
        },
        "id": "otTy2r3sElsN",
        "outputId": "5b97f47e-65fa-43c1-f620-d18aea612ad7"
      },
      "execution_count": 7,
      "outputs": [
        {
          "output_type": "stream",
          "name": "stdout",
          "text": [
            "385.0\n"
          ]
        }
      ]
    },
    {
      "cell_type": "markdown",
      "source": [
        "Problem 5:\n",
        "\n",
        "Find out sum of square of all the even numbers upto 10, satrtingfrom 1"
      ],
      "metadata": {
        "id": "c5ACgfJTE1-A"
      }
    },
    {
      "cell_type": "code",
      "source": [
        "sum=0\n",
        "for num in range (0,10):\n",
        "  if num%2==0:\n",
        "    sum=sum+ (num**2)\n",
        "\n",
        "print(sum)\n"
      ],
      "metadata": {
        "colab": {
          "base_uri": "https://localhost:8080/"
        },
        "id": "pUNsUpdsFE7E",
        "outputId": "a5850983-366a-4260-c5e3-a6a97acc4c5e"
      },
      "execution_count": 8,
      "outputs": [
        {
          "output_type": "stream",
          "name": "stdout",
          "text": [
            "120\n"
          ]
        }
      ]
    },
    {
      "cell_type": "markdown",
      "source": [
        "Problem 6:\n",
        "\n",
        "Check a number is prime or not"
      ],
      "metadata": {
        "id": "yamt1OGnFj9x"
      }
    },
    {
      "cell_type": "code",
      "source": [
        "num=int(input('enter natural number:'))\n",
        "if num>1:\n",
        "  for i in range(2,int(num/2)+1):\n",
        "    print(\"not a prime number\")\n",
        "    break\n",
        "  else:\n",
        "    print(\"prime no\")  "
      ],
      "metadata": {
        "colab": {
          "base_uri": "https://localhost:8080/"
        },
        "id": "SnIs-eJCFwXM",
        "outputId": "ba4cbcd3-2e5c-4fc4-eb50-a9baa9949bf9"
      },
      "execution_count": 18,
      "outputs": [
        {
          "output_type": "stream",
          "name": "stdout",
          "text": [
            "enter natural number:2\n",
            "prime no\n"
          ]
        }
      ]
    },
    {
      "cell_type": "markdown",
      "source": [
        "Problem 7:\n",
        "\n",
        "Print multiplicatin table upto 10 starting from 1"
      ],
      "metadata": {
        "id": "1mUq8FtzG1FD"
      }
    },
    {
      "cell_type": "code",
      "source": [
        "def tables():\n",
        "    for x in range(1, 11):\n",
        "      print(\"\")\n",
        "      for y in range(1, 11):\n",
        "        print(x*y,end=\" \")\n",
        "tables()        \n"
      ],
      "metadata": {
        "colab": {
          "base_uri": "https://localhost:8080/"
        },
        "id": "JY7Gj2o7G_X3",
        "outputId": "61c2fc16-2fe3-4a5f-e144-cf124f221241"
      },
      "execution_count": 19,
      "outputs": [
        {
          "output_type": "stream",
          "name": "stdout",
          "text": [
            "\n",
            "1 2 3 4 5 6 7 8 9 10 \n",
            "2 4 6 8 10 12 14 16 18 20 \n",
            "3 6 9 12 15 18 21 24 27 30 \n",
            "4 8 12 16 20 24 28 32 36 40 \n",
            "5 10 15 20 25 30 35 40 45 50 \n",
            "6 12 18 24 30 36 42 48 54 60 \n",
            "7 14 21 28 35 42 49 56 63 70 \n",
            "8 16 24 32 40 48 56 64 72 80 \n",
            "9 18 27 36 45 54 63 72 81 90 \n",
            "10 20 30 40 50 60 70 80 90 100 "
          ]
        }
      ]
    },
    {
      "cell_type": "markdown",
      "source": [
        "Problem 8:\n",
        "\n",
        "Print the series of first n fibonacci numbers"
      ],
      "metadata": {
        "id": "MVhpDzf_Hr1t"
      }
    },
    {
      "cell_type": "code",
      "source": [
        "x=10\n",
        "n1, n2,=0,1\n",
        "count=0\n",
        "print(\"Fibonacci sequence:\")\n",
        "while count < x:\n",
        "  print(n1)\n",
        "  nth=n1 + n2\n",
        "  n1 = n2\n",
        "  n2 = nth\n",
        "  count += 1"
      ],
      "metadata": {
        "colab": {
          "base_uri": "https://localhost:8080/"
        },
        "id": "Eoh-vo-NH4KA",
        "outputId": "9fe7b9f0-3b68-42df-fcf5-ae668bc8f03e"
      },
      "execution_count": 20,
      "outputs": [
        {
          "output_type": "stream",
          "name": "stdout",
          "text": [
            "Fibonacci sequence:\n",
            "0\n",
            "1\n",
            "1\n",
            "2\n",
            "3\n",
            "5\n",
            "8\n",
            "13\n",
            "21\n",
            "34\n"
          ]
        }
      ]
    }
  ]
}