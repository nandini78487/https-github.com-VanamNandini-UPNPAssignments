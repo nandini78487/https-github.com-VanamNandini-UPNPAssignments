{
  "nbformat": 4,
  "nbformat_minor": 0,
  "metadata": {
    "colab": {
      "name": "Revision(module_python).ipynb",
      "provenance": [],
      "collapsed_sections": []
    },
    "kernelspec": {
      "name": "python3",
      "display_name": "Python 3"
    },
    "language_info": {
      "name": "python"
    }
  },
  "cells": [
    {
      "cell_type": "code",
      "execution_count": 1,
      "metadata": {
        "id": "PIPGbbNMA7On"
      },
      "outputs": [],
      "source": [
        "import numpy as np\n",
        "import pandas as pd\n",
        "import matplotlib.pyplot as plt\n",
        "import seaborn as sns\n",
        "sns.set(color_codes=True)"
      ]
    },
    {
      "cell_type": "code",
      "source": [
        "data = pd.read_excel(\"/content/Housing.xlsx\")\n",
        "data.head()"
      ],
      "metadata": {
        "colab": {
          "base_uri": "https://localhost:8080/",
          "height": 424
        },
        "id": "G-hAGjrQBYA1",
        "outputId": "201ba242-b22c-4cd6-8f59-f26c8348c88e"
      },
      "execution_count": 2,
      "outputs": [
        {
          "output_type": "execute_result",
          "data": {
            "text/plain": [
              "   UniqueID         LandUse                     PropertyAddress   SaleDate  \\\n",
              "0     2045.0  SINGLE FAMILY  1808  FOX CHASE DR, GOODLETTSVILLE 2013-04-09   \n",
              "1    16918.0  SINGLE FAMILY  1832  FOX CHASE DR, GOODLETTSVILLE 2014-06-10   \n",
              "2    54582.0  SINGLE FAMILY  1864 FOX CHASE  DR, GOODLETTSVILLE 2016-09-26   \n",
              "3    43070.0  SINGLE FAMILY  1853  FOX CHASE DR, GOODLETTSVILLE 2016-01-29   \n",
              "4    22714.0  SINGLE FAMILY  1829  FOX CHASE DR, GOODLETTSVILLE 2014-10-10   \n",
              "\n",
              "   SalePrice  Acre  LandValue  BuildingValue  TotalValue  YearBuilt  Bedrooms  \\\n",
              "0   240000.0   2.3    50000.0       168200.0    235700.0     1986.0       3.0   \n",
              "1   366000.0   3.5    50000.0       264100.0    319000.0     1998.0       3.0   \n",
              "2   435000.0   2.9    50000.0       216200.0    298000.0     1987.0       4.0   \n",
              "3   255000.0   2.6    50000.0       147300.0    197300.0     1985.0       3.0   \n",
              "4   278000.0   2.0    50000.0       152300.0    202300.0     1984.0       4.0   \n",
              "\n",
              "   FullBath  HalfBath  \n",
              "0       3.0       0.0  \n",
              "1       3.0       2.0  \n",
              "2       3.0       0.0  \n",
              "3       3.0       0.0  \n",
              "4       3.0       0.0  "
            ],
            "text/html": [
              "\n",
              "  <div id=\"df-21e55da5-f4a6-4239-b852-ea4539632c32\">\n",
              "    <div class=\"colab-df-container\">\n",
              "      <div>\n",
              "<style scoped>\n",
              "    .dataframe tbody tr th:only-of-type {\n",
              "        vertical-align: middle;\n",
              "    }\n",
              "\n",
              "    .dataframe tbody tr th {\n",
              "        vertical-align: top;\n",
              "    }\n",
              "\n",
              "    .dataframe thead th {\n",
              "        text-align: right;\n",
              "    }\n",
              "</style>\n",
              "<table border=\"1\" class=\"dataframe\">\n",
              "  <thead>\n",
              "    <tr style=\"text-align: right;\">\n",
              "      <th></th>\n",
              "      <th>UniqueID</th>\n",
              "      <th>LandUse</th>\n",
              "      <th>PropertyAddress</th>\n",
              "      <th>SaleDate</th>\n",
              "      <th>SalePrice</th>\n",
              "      <th>Acre</th>\n",
              "      <th>LandValue</th>\n",
              "      <th>BuildingValue</th>\n",
              "      <th>TotalValue</th>\n",
              "      <th>YearBuilt</th>\n",
              "      <th>Bedrooms</th>\n",
              "      <th>FullBath</th>\n",
              "      <th>HalfBath</th>\n",
              "    </tr>\n",
              "  </thead>\n",
              "  <tbody>\n",
              "    <tr>\n",
              "      <th>0</th>\n",
              "      <td>2045.0</td>\n",
              "      <td>SINGLE FAMILY</td>\n",
              "      <td>1808  FOX CHASE DR, GOODLETTSVILLE</td>\n",
              "      <td>2013-04-09</td>\n",
              "      <td>240000.0</td>\n",
              "      <td>2.3</td>\n",
              "      <td>50000.0</td>\n",
              "      <td>168200.0</td>\n",
              "      <td>235700.0</td>\n",
              "      <td>1986.0</td>\n",
              "      <td>3.0</td>\n",
              "      <td>3.0</td>\n",
              "      <td>0.0</td>\n",
              "    </tr>\n",
              "    <tr>\n",
              "      <th>1</th>\n",
              "      <td>16918.0</td>\n",
              "      <td>SINGLE FAMILY</td>\n",
              "      <td>1832  FOX CHASE DR, GOODLETTSVILLE</td>\n",
              "      <td>2014-06-10</td>\n",
              "      <td>366000.0</td>\n",
              "      <td>3.5</td>\n",
              "      <td>50000.0</td>\n",
              "      <td>264100.0</td>\n",
              "      <td>319000.0</td>\n",
              "      <td>1998.0</td>\n",
              "      <td>3.0</td>\n",
              "      <td>3.0</td>\n",
              "      <td>2.0</td>\n",
              "    </tr>\n",
              "    <tr>\n",
              "      <th>2</th>\n",
              "      <td>54582.0</td>\n",
              "      <td>SINGLE FAMILY</td>\n",
              "      <td>1864 FOX CHASE  DR, GOODLETTSVILLE</td>\n",
              "      <td>2016-09-26</td>\n",
              "      <td>435000.0</td>\n",
              "      <td>2.9</td>\n",
              "      <td>50000.0</td>\n",
              "      <td>216200.0</td>\n",
              "      <td>298000.0</td>\n",
              "      <td>1987.0</td>\n",
              "      <td>4.0</td>\n",
              "      <td>3.0</td>\n",
              "      <td>0.0</td>\n",
              "    </tr>\n",
              "    <tr>\n",
              "      <th>3</th>\n",
              "      <td>43070.0</td>\n",
              "      <td>SINGLE FAMILY</td>\n",
              "      <td>1853  FOX CHASE DR, GOODLETTSVILLE</td>\n",
              "      <td>2016-01-29</td>\n",
              "      <td>255000.0</td>\n",
              "      <td>2.6</td>\n",
              "      <td>50000.0</td>\n",
              "      <td>147300.0</td>\n",
              "      <td>197300.0</td>\n",
              "      <td>1985.0</td>\n",
              "      <td>3.0</td>\n",
              "      <td>3.0</td>\n",
              "      <td>0.0</td>\n",
              "    </tr>\n",
              "    <tr>\n",
              "      <th>4</th>\n",
              "      <td>22714.0</td>\n",
              "      <td>SINGLE FAMILY</td>\n",
              "      <td>1829  FOX CHASE DR, GOODLETTSVILLE</td>\n",
              "      <td>2014-10-10</td>\n",
              "      <td>278000.0</td>\n",
              "      <td>2.0</td>\n",
              "      <td>50000.0</td>\n",
              "      <td>152300.0</td>\n",
              "      <td>202300.0</td>\n",
              "      <td>1984.0</td>\n",
              "      <td>4.0</td>\n",
              "      <td>3.0</td>\n",
              "      <td>0.0</td>\n",
              "    </tr>\n",
              "  </tbody>\n",
              "</table>\n",
              "</div>\n",
              "      <button class=\"colab-df-convert\" onclick=\"convertToInteractive('df-21e55da5-f4a6-4239-b852-ea4539632c32')\"\n",
              "              title=\"Convert this dataframe to an interactive table.\"\n",
              "              style=\"display:none;\">\n",
              "        \n",
              "  <svg xmlns=\"http://www.w3.org/2000/svg\" height=\"24px\"viewBox=\"0 0 24 24\"\n",
              "       width=\"24px\">\n",
              "    <path d=\"M0 0h24v24H0V0z\" fill=\"none\"/>\n",
              "    <path d=\"M18.56 5.44l.94 2.06.94-2.06 2.06-.94-2.06-.94-.94-2.06-.94 2.06-2.06.94zm-11 1L8.5 8.5l.94-2.06 2.06-.94-2.06-.94L8.5 2.5l-.94 2.06-2.06.94zm10 10l.94 2.06.94-2.06 2.06-.94-2.06-.94-.94-2.06-.94 2.06-2.06.94z\"/><path d=\"M17.41 7.96l-1.37-1.37c-.4-.4-.92-.59-1.43-.59-.52 0-1.04.2-1.43.59L10.3 9.45l-7.72 7.72c-.78.78-.78 2.05 0 2.83L4 21.41c.39.39.9.59 1.41.59.51 0 1.02-.2 1.41-.59l7.78-7.78 2.81-2.81c.8-.78.8-2.07 0-2.86zM5.41 20L4 18.59l7.72-7.72 1.47 1.35L5.41 20z\"/>\n",
              "  </svg>\n",
              "      </button>\n",
              "      \n",
              "  <style>\n",
              "    .colab-df-container {\n",
              "      display:flex;\n",
              "      flex-wrap:wrap;\n",
              "      gap: 12px;\n",
              "    }\n",
              "\n",
              "    .colab-df-convert {\n",
              "      background-color: #E8F0FE;\n",
              "      border: none;\n",
              "      border-radius: 50%;\n",
              "      cursor: pointer;\n",
              "      display: none;\n",
              "      fill: #1967D2;\n",
              "      height: 32px;\n",
              "      padding: 0 0 0 0;\n",
              "      width: 32px;\n",
              "    }\n",
              "\n",
              "    .colab-df-convert:hover {\n",
              "      background-color: #E2EBFA;\n",
              "      box-shadow: 0px 1px 2px rgba(60, 64, 67, 0.3), 0px 1px 3px 1px rgba(60, 64, 67, 0.15);\n",
              "      fill: #174EA6;\n",
              "    }\n",
              "\n",
              "    [theme=dark] .colab-df-convert {\n",
              "      background-color: #3B4455;\n",
              "      fill: #D2E3FC;\n",
              "    }\n",
              "\n",
              "    [theme=dark] .colab-df-convert:hover {\n",
              "      background-color: #434B5C;\n",
              "      box-shadow: 0px 1px 3px 1px rgba(0, 0, 0, 0.15);\n",
              "      filter: drop-shadow(0px 1px 2px rgba(0, 0, 0, 0.3));\n",
              "      fill: #FFFFFF;\n",
              "    }\n",
              "  </style>\n",
              "\n",
              "      <script>\n",
              "        const buttonEl =\n",
              "          document.querySelector('#df-21e55da5-f4a6-4239-b852-ea4539632c32 button.colab-df-convert');\n",
              "        buttonEl.style.display =\n",
              "          google.colab.kernel.accessAllowed ? 'block' : 'none';\n",
              "\n",
              "        async function convertToInteractive(key) {\n",
              "          const element = document.querySelector('#df-21e55da5-f4a6-4239-b852-ea4539632c32');\n",
              "          const dataTable =\n",
              "            await google.colab.kernel.invokeFunction('convertToInteractive',\n",
              "                                                     [key], {});\n",
              "          if (!dataTable) return;\n",
              "\n",
              "          const docLinkHtml = 'Like what you see? Visit the ' +\n",
              "            '<a target=\"_blank\" href=https://colab.research.google.com/notebooks/data_table.ipynb>data table notebook</a>'\n",
              "            + ' to learn more about interactive tables.';\n",
              "          element.innerHTML = '';\n",
              "          dataTable['output_type'] = 'display_data';\n",
              "          await google.colab.output.renderOutput(dataTable, element);\n",
              "          const docLink = document.createElement('div');\n",
              "          docLink.innerHTML = docLinkHtml;\n",
              "          element.appendChild(docLink);\n",
              "        }\n",
              "      </script>\n",
              "    </div>\n",
              "  </div>\n",
              "  "
            ]
          },
          "metadata": {},
          "execution_count": 2
        }
      ]
    },
    {
      "cell_type": "code",
      "source": [
        "data.isnull().sum()"
      ],
      "metadata": {
        "colab": {
          "base_uri": "https://localhost:8080/"
        },
        "id": "fmv8CV4BB41h",
        "outputId": "b14a6e7d-580f-4961-b4d8-e6b5bc69145d"
      },
      "execution_count": 3,
      "outputs": [
        {
          "output_type": "execute_result",
          "data": {
            "text/plain": [
              "UniqueID               0\n",
              "LandUse                0\n",
              "PropertyAddress       29\n",
              "SaleDate               0\n",
              "SalePrice              0\n",
              "Acre               30462\n",
              "LandValue          30462\n",
              "BuildingValue      30462\n",
              "TotalValue         30462\n",
              "YearBuilt          32314\n",
              "Bedrooms           32320\n",
              "FullBath           32202\n",
              "HalfBath           32333\n",
              "dtype: int64"
            ]
          },
          "metadata": {},
          "execution_count": 3
        }
      ]
    },
    {
      "cell_type": "markdown",
      "source": [
        "1.Replace the missing values with appropriate approximations\n"
      ],
      "metadata": {
        "id": "-wL9ZZkDCCCh"
      }
    },
    {
      "cell_type": "code",
      "source": [
        "data['Acre']=data[\"Acre\"].fillna(np.mean(data[\"Acre\"]))\n",
        "data['LandValue']=data[\"LandValue\"].fillna(np.mean(data[\"LandValue\"]))\n",
        "data['BuildingValue']=data[\"BuildingValue\"].fillna(np.mean(data[\"BuildingValue\"]))\n",
        "data['TotalValue']=data[\"TotalValue\"].fillna(np.mean(data[\"TotalValue\"]))\n",
        "data['YearBuilt']=data[\"YearBuilt\"].fillna(np.mean(data[\"YearBuilt\"]))\n",
        "data['Bedrooms']=data[\"Bedrooms\"].fillna(np.mean(data[\"Bedrooms\"]))\n",
        "data['FullBath']=data[\"FullBath\"].fillna(np.mean(data[\"FullBath\"]))\n",
        "data['HalfBath']=data[\"HalfBath\"].fillna(np.mean(data[\"HalfBath\"]))\n",
        "data"
      ],
      "metadata": {
        "colab": {
          "base_uri": "https://localhost:8080/",
          "height": 834
        },
        "id": "hlllgzDhCLBU",
        "outputId": "9cc45a2d-6796-49b3-c3ef-57d4234109df"
      },
      "execution_count": 4,
      "outputs": [
        {
          "output_type": "execute_result",
          "data": {
            "text/plain": [
              "       UniqueID                   LandUse  \\\n",
              "0         2045.0            SINGLE FAMILY   \n",
              "1        16918.0            SINGLE FAMILY   \n",
              "2        54582.0            SINGLE FAMILY   \n",
              "3        43070.0            SINGLE FAMILY   \n",
              "4        22714.0            SINGLE FAMILY   \n",
              "...          ...                      ...   \n",
              "56472    30469.0            SINGLE FAMILY   \n",
              "56473    27707.0            SINGLE FAMILY   \n",
              "56474    52709.0  VACANT RESIDENTIAL LAND   \n",
              "56475    54042.0  VACANT RESIDENTIAL LAND   \n",
              "56476    54043.0  VACANT RESIDENTIAL LAND   \n",
              "\n",
              "                           PropertyAddress   SaleDate  SalePrice      Acre  \\\n",
              "0       1808  FOX CHASE DR, GOODLETTSVILLE 2013-04-09   240000.0  2.300000   \n",
              "1       1832  FOX CHASE DR, GOODLETTSVILLE 2014-06-10   366000.0  3.500000   \n",
              "2       1864 FOX CHASE  DR, GOODLETTSVILLE 2016-09-26   435000.0  2.900000   \n",
              "3       1853  FOX CHASE DR, GOODLETTSVILLE 2016-01-29   255000.0  2.600000   \n",
              "4       1829  FOX CHASE DR, GOODLETTSVILLE 2014-10-10   278000.0  2.000000   \n",
              "...                                    ...        ...        ...       ...   \n",
              "56472  1435  WINDING CREEK DR, NOLENSVILLE 2015-05-27   157500.0  0.498923   \n",
              "56473  1423  WINDING CREEK DR, NOLENSVILLE 2015-03-02   145000.0  0.498923   \n",
              "56474    1804 GRACE POINT  LN, NOLENSVILLE 2016-08-16   234611.0  0.498923   \n",
              "56475   1709 PARK TERRACE  LN, NOLENSVILLE 2016-09-07    93844.0  0.498923   \n",
              "56476   1713 PARK TERRACE  LN, NOLENSVILLE 2016-09-07    93844.0  0.498923   \n",
              "\n",
              "          LandValue  BuildingValue     TotalValue    YearBuilt  Bedrooms  \\\n",
              "0      50000.000000  168200.000000  235700.000000  1986.000000  3.000000   \n",
              "1      50000.000000  264100.000000  319000.000000  1998.000000  3.000000   \n",
              "2      50000.000000  216200.000000  298000.000000  1987.000000  4.000000   \n",
              "3      50000.000000  147300.000000  197300.000000  1985.000000  3.000000   \n",
              "4      50000.000000  152300.000000  202300.000000  1984.000000  4.000000   \n",
              "...             ...            ...            ...          ...       ...   \n",
              "56472  69068.557601  160784.677109  232375.398847  1963.744899  3.089912   \n",
              "56473  69068.557601  160784.677109  232375.398847  1963.744899  3.089912   \n",
              "56474  69068.557601  160784.677109  232375.398847  1963.744899  3.089912   \n",
              "56475  69068.557601  160784.677109  232375.398847  1963.744899  3.089912   \n",
              "56476  69068.557601  160784.677109  232375.398847  1963.744899  3.089912   \n",
              "\n",
              "       FullBath  HalfBath  \n",
              "0      3.000000  0.000000  \n",
              "1      3.000000  2.000000  \n",
              "2      3.000000  0.000000  \n",
              "3      3.000000  0.000000  \n",
              "4      3.000000  0.000000  \n",
              "...         ...       ...  \n",
              "56472  1.886014  0.283921  \n",
              "56473  1.886014  0.283921  \n",
              "56474  1.886014  0.283921  \n",
              "56475  1.886014  0.283921  \n",
              "56476  1.886014  0.283921  \n",
              "\n",
              "[56477 rows x 13 columns]"
            ],
            "text/html": [
              "\n",
              "  <div id=\"df-4e0b5109-740d-44e0-94d8-bdd8cd7fa413\">\n",
              "    <div class=\"colab-df-container\">\n",
              "      <div>\n",
              "<style scoped>\n",
              "    .dataframe tbody tr th:only-of-type {\n",
              "        vertical-align: middle;\n",
              "    }\n",
              "\n",
              "    .dataframe tbody tr th {\n",
              "        vertical-align: top;\n",
              "    }\n",
              "\n",
              "    .dataframe thead th {\n",
              "        text-align: right;\n",
              "    }\n",
              "</style>\n",
              "<table border=\"1\" class=\"dataframe\">\n",
              "  <thead>\n",
              "    <tr style=\"text-align: right;\">\n",
              "      <th></th>\n",
              "      <th>UniqueID</th>\n",
              "      <th>LandUse</th>\n",
              "      <th>PropertyAddress</th>\n",
              "      <th>SaleDate</th>\n",
              "      <th>SalePrice</th>\n",
              "      <th>Acre</th>\n",
              "      <th>LandValue</th>\n",
              "      <th>BuildingValue</th>\n",
              "      <th>TotalValue</th>\n",
              "      <th>YearBuilt</th>\n",
              "      <th>Bedrooms</th>\n",
              "      <th>FullBath</th>\n",
              "      <th>HalfBath</th>\n",
              "    </tr>\n",
              "  </thead>\n",
              "  <tbody>\n",
              "    <tr>\n",
              "      <th>0</th>\n",
              "      <td>2045.0</td>\n",
              "      <td>SINGLE FAMILY</td>\n",
              "      <td>1808  FOX CHASE DR, GOODLETTSVILLE</td>\n",
              "      <td>2013-04-09</td>\n",
              "      <td>240000.0</td>\n",
              "      <td>2.300000</td>\n",
              "      <td>50000.000000</td>\n",
              "      <td>168200.000000</td>\n",
              "      <td>235700.000000</td>\n",
              "      <td>1986.000000</td>\n",
              "      <td>3.000000</td>\n",
              "      <td>3.000000</td>\n",
              "      <td>0.000000</td>\n",
              "    </tr>\n",
              "    <tr>\n",
              "      <th>1</th>\n",
              "      <td>16918.0</td>\n",
              "      <td>SINGLE FAMILY</td>\n",
              "      <td>1832  FOX CHASE DR, GOODLETTSVILLE</td>\n",
              "      <td>2014-06-10</td>\n",
              "      <td>366000.0</td>\n",
              "      <td>3.500000</td>\n",
              "      <td>50000.000000</td>\n",
              "      <td>264100.000000</td>\n",
              "      <td>319000.000000</td>\n",
              "      <td>1998.000000</td>\n",
              "      <td>3.000000</td>\n",
              "      <td>3.000000</td>\n",
              "      <td>2.000000</td>\n",
              "    </tr>\n",
              "    <tr>\n",
              "      <th>2</th>\n",
              "      <td>54582.0</td>\n",
              "      <td>SINGLE FAMILY</td>\n",
              "      <td>1864 FOX CHASE  DR, GOODLETTSVILLE</td>\n",
              "      <td>2016-09-26</td>\n",
              "      <td>435000.0</td>\n",
              "      <td>2.900000</td>\n",
              "      <td>50000.000000</td>\n",
              "      <td>216200.000000</td>\n",
              "      <td>298000.000000</td>\n",
              "      <td>1987.000000</td>\n",
              "      <td>4.000000</td>\n",
              "      <td>3.000000</td>\n",
              "      <td>0.000000</td>\n",
              "    </tr>\n",
              "    <tr>\n",
              "      <th>3</th>\n",
              "      <td>43070.0</td>\n",
              "      <td>SINGLE FAMILY</td>\n",
              "      <td>1853  FOX CHASE DR, GOODLETTSVILLE</td>\n",
              "      <td>2016-01-29</td>\n",
              "      <td>255000.0</td>\n",
              "      <td>2.600000</td>\n",
              "      <td>50000.000000</td>\n",
              "      <td>147300.000000</td>\n",
              "      <td>197300.000000</td>\n",
              "      <td>1985.000000</td>\n",
              "      <td>3.000000</td>\n",
              "      <td>3.000000</td>\n",
              "      <td>0.000000</td>\n",
              "    </tr>\n",
              "    <tr>\n",
              "      <th>4</th>\n",
              "      <td>22714.0</td>\n",
              "      <td>SINGLE FAMILY</td>\n",
              "      <td>1829  FOX CHASE DR, GOODLETTSVILLE</td>\n",
              "      <td>2014-10-10</td>\n",
              "      <td>278000.0</td>\n",
              "      <td>2.000000</td>\n",
              "      <td>50000.000000</td>\n",
              "      <td>152300.000000</td>\n",
              "      <td>202300.000000</td>\n",
              "      <td>1984.000000</td>\n",
              "      <td>4.000000</td>\n",
              "      <td>3.000000</td>\n",
              "      <td>0.000000</td>\n",
              "    </tr>\n",
              "    <tr>\n",
              "      <th>...</th>\n",
              "      <td>...</td>\n",
              "      <td>...</td>\n",
              "      <td>...</td>\n",
              "      <td>...</td>\n",
              "      <td>...</td>\n",
              "      <td>...</td>\n",
              "      <td>...</td>\n",
              "      <td>...</td>\n",
              "      <td>...</td>\n",
              "      <td>...</td>\n",
              "      <td>...</td>\n",
              "      <td>...</td>\n",
              "      <td>...</td>\n",
              "    </tr>\n",
              "    <tr>\n",
              "      <th>56472</th>\n",
              "      <td>30469.0</td>\n",
              "      <td>SINGLE FAMILY</td>\n",
              "      <td>1435  WINDING CREEK DR, NOLENSVILLE</td>\n",
              "      <td>2015-05-27</td>\n",
              "      <td>157500.0</td>\n",
              "      <td>0.498923</td>\n",
              "      <td>69068.557601</td>\n",
              "      <td>160784.677109</td>\n",
              "      <td>232375.398847</td>\n",
              "      <td>1963.744899</td>\n",
              "      <td>3.089912</td>\n",
              "      <td>1.886014</td>\n",
              "      <td>0.283921</td>\n",
              "    </tr>\n",
              "    <tr>\n",
              "      <th>56473</th>\n",
              "      <td>27707.0</td>\n",
              "      <td>SINGLE FAMILY</td>\n",
              "      <td>1423  WINDING CREEK DR, NOLENSVILLE</td>\n",
              "      <td>2015-03-02</td>\n",
              "      <td>145000.0</td>\n",
              "      <td>0.498923</td>\n",
              "      <td>69068.557601</td>\n",
              "      <td>160784.677109</td>\n",
              "      <td>232375.398847</td>\n",
              "      <td>1963.744899</td>\n",
              "      <td>3.089912</td>\n",
              "      <td>1.886014</td>\n",
              "      <td>0.283921</td>\n",
              "    </tr>\n",
              "    <tr>\n",
              "      <th>56474</th>\n",
              "      <td>52709.0</td>\n",
              "      <td>VACANT RESIDENTIAL LAND</td>\n",
              "      <td>1804 GRACE POINT  LN, NOLENSVILLE</td>\n",
              "      <td>2016-08-16</td>\n",
              "      <td>234611.0</td>\n",
              "      <td>0.498923</td>\n",
              "      <td>69068.557601</td>\n",
              "      <td>160784.677109</td>\n",
              "      <td>232375.398847</td>\n",
              "      <td>1963.744899</td>\n",
              "      <td>3.089912</td>\n",
              "      <td>1.886014</td>\n",
              "      <td>0.283921</td>\n",
              "    </tr>\n",
              "    <tr>\n",
              "      <th>56475</th>\n",
              "      <td>54042.0</td>\n",
              "      <td>VACANT RESIDENTIAL LAND</td>\n",
              "      <td>1709 PARK TERRACE  LN, NOLENSVILLE</td>\n",
              "      <td>2016-09-07</td>\n",
              "      <td>93844.0</td>\n",
              "      <td>0.498923</td>\n",
              "      <td>69068.557601</td>\n",
              "      <td>160784.677109</td>\n",
              "      <td>232375.398847</td>\n",
              "      <td>1963.744899</td>\n",
              "      <td>3.089912</td>\n",
              "      <td>1.886014</td>\n",
              "      <td>0.283921</td>\n",
              "    </tr>\n",
              "    <tr>\n",
              "      <th>56476</th>\n",
              "      <td>54043.0</td>\n",
              "      <td>VACANT RESIDENTIAL LAND</td>\n",
              "      <td>1713 PARK TERRACE  LN, NOLENSVILLE</td>\n",
              "      <td>2016-09-07</td>\n",
              "      <td>93844.0</td>\n",
              "      <td>0.498923</td>\n",
              "      <td>69068.557601</td>\n",
              "      <td>160784.677109</td>\n",
              "      <td>232375.398847</td>\n",
              "      <td>1963.744899</td>\n",
              "      <td>3.089912</td>\n",
              "      <td>1.886014</td>\n",
              "      <td>0.283921</td>\n",
              "    </tr>\n",
              "  </tbody>\n",
              "</table>\n",
              "<p>56477 rows × 13 columns</p>\n",
              "</div>\n",
              "      <button class=\"colab-df-convert\" onclick=\"convertToInteractive('df-4e0b5109-740d-44e0-94d8-bdd8cd7fa413')\"\n",
              "              title=\"Convert this dataframe to an interactive table.\"\n",
              "              style=\"display:none;\">\n",
              "        \n",
              "  <svg xmlns=\"http://www.w3.org/2000/svg\" height=\"24px\"viewBox=\"0 0 24 24\"\n",
              "       width=\"24px\">\n",
              "    <path d=\"M0 0h24v24H0V0z\" fill=\"none\"/>\n",
              "    <path d=\"M18.56 5.44l.94 2.06.94-2.06 2.06-.94-2.06-.94-.94-2.06-.94 2.06-2.06.94zm-11 1L8.5 8.5l.94-2.06 2.06-.94-2.06-.94L8.5 2.5l-.94 2.06-2.06.94zm10 10l.94 2.06.94-2.06 2.06-.94-2.06-.94-.94-2.06-.94 2.06-2.06.94z\"/><path d=\"M17.41 7.96l-1.37-1.37c-.4-.4-.92-.59-1.43-.59-.52 0-1.04.2-1.43.59L10.3 9.45l-7.72 7.72c-.78.78-.78 2.05 0 2.83L4 21.41c.39.39.9.59 1.41.59.51 0 1.02-.2 1.41-.59l7.78-7.78 2.81-2.81c.8-.78.8-2.07 0-2.86zM5.41 20L4 18.59l7.72-7.72 1.47 1.35L5.41 20z\"/>\n",
              "  </svg>\n",
              "      </button>\n",
              "      \n",
              "  <style>\n",
              "    .colab-df-container {\n",
              "      display:flex;\n",
              "      flex-wrap:wrap;\n",
              "      gap: 12px;\n",
              "    }\n",
              "\n",
              "    .colab-df-convert {\n",
              "      background-color: #E8F0FE;\n",
              "      border: none;\n",
              "      border-radius: 50%;\n",
              "      cursor: pointer;\n",
              "      display: none;\n",
              "      fill: #1967D2;\n",
              "      height: 32px;\n",
              "      padding: 0 0 0 0;\n",
              "      width: 32px;\n",
              "    }\n",
              "\n",
              "    .colab-df-convert:hover {\n",
              "      background-color: #E2EBFA;\n",
              "      box-shadow: 0px 1px 2px rgba(60, 64, 67, 0.3), 0px 1px 3px 1px rgba(60, 64, 67, 0.15);\n",
              "      fill: #174EA6;\n",
              "    }\n",
              "\n",
              "    [theme=dark] .colab-df-convert {\n",
              "      background-color: #3B4455;\n",
              "      fill: #D2E3FC;\n",
              "    }\n",
              "\n",
              "    [theme=dark] .colab-df-convert:hover {\n",
              "      background-color: #434B5C;\n",
              "      box-shadow: 0px 1px 3px 1px rgba(0, 0, 0, 0.15);\n",
              "      filter: drop-shadow(0px 1px 2px rgba(0, 0, 0, 0.3));\n",
              "      fill: #FFFFFF;\n",
              "    }\n",
              "  </style>\n",
              "\n",
              "      <script>\n",
              "        const buttonEl =\n",
              "          document.querySelector('#df-4e0b5109-740d-44e0-94d8-bdd8cd7fa413 button.colab-df-convert');\n",
              "        buttonEl.style.display =\n",
              "          google.colab.kernel.accessAllowed ? 'block' : 'none';\n",
              "\n",
              "        async function convertToInteractive(key) {\n",
              "          const element = document.querySelector('#df-4e0b5109-740d-44e0-94d8-bdd8cd7fa413');\n",
              "          const dataTable =\n",
              "            await google.colab.kernel.invokeFunction('convertToInteractive',\n",
              "                                                     [key], {});\n",
              "          if (!dataTable) return;\n",
              "\n",
              "          const docLinkHtml = 'Like what you see? Visit the ' +\n",
              "            '<a target=\"_blank\" href=https://colab.research.google.com/notebooks/data_table.ipynb>data table notebook</a>'\n",
              "            + ' to learn more about interactive tables.';\n",
              "          element.innerHTML = '';\n",
              "          dataTable['output_type'] = 'display_data';\n",
              "          await google.colab.output.renderOutput(dataTable, element);\n",
              "          const docLink = document.createElement('div');\n",
              "          docLink.innerHTML = docLinkHtml;\n",
              "          element.appendChild(docLink);\n",
              "        }\n",
              "      </script>\n",
              "    </div>\n",
              "  </div>\n",
              "  "
            ]
          },
          "metadata": {},
          "execution_count": 4
        }
      ]
    },
    {
      "cell_type": "code",
      "source": [
        "data.dropna(inplace=True)\n",
        "data=data.reset_index(drop=True)"
      ],
      "metadata": {
        "id": "1gjD9eWLY00x"
      },
      "execution_count": 5,
      "outputs": []
    },
    {
      "cell_type": "markdown",
      "source": [
        "2.Rename the columns to better suited names\n"
      ],
      "metadata": {
        "id": "OBpgd0mPanMm"
      }
    },
    {
      "cell_type": "code",
      "source": [
        "data.columns"
      ],
      "metadata": {
        "colab": {
          "base_uri": "https://localhost:8080/"
        },
        "id": "O6x8LQLLax6n",
        "outputId": "cd03be50-7f97-4e09-8c42-419f667a891a"
      },
      "execution_count": 6,
      "outputs": [
        {
          "output_type": "execute_result",
          "data": {
            "text/plain": [
              "Index(['UniqueID ', 'LandUse', 'PropertyAddress', 'SaleDate', 'SalePrice',\n",
              "       'Acre', 'LandValue', 'BuildingValue', 'TotalValue', 'YearBuilt',\n",
              "       'Bedrooms', 'FullBath', 'HalfBath'],\n",
              "      dtype='object')"
            ]
          },
          "metadata": {},
          "execution_count": 6
        }
      ]
    },
    {
      "cell_type": "code",
      "source": [
        "data.rename(columns={\"FullBath\":\"FullBathroom\"},inplace=True)\n",
        "data.rename(columns={\"HalfBath\":\"HalfBathroom\"},inplace=True)"
      ],
      "metadata": {
        "id": "2BioOzUCbUgt"
      },
      "execution_count": null,
      "outputs": []
    },
    {
      "cell_type": "markdown",
      "source": [
        "3.Extract the month and year from the sale date\n"
      ],
      "metadata": {
        "id": "IZht8kWhcCJK"
      }
    },
    {
      "cell_type": "code",
      "source": [
        "data['Year']=pd.DatetimeIndex(data['SaleDate']).year\n",
        "data['Month']=pd.DatetimeIndex(data['SaleDate']).month\n",
        "data['Day']=pd.DatetimeIndex(data['SaleDate']).day\n",
        "data"
      ],
      "metadata": {
        "colab": {
          "base_uri": "https://localhost:8080/",
          "height": 834
        },
        "id": "rMaJinYDcJkW",
        "outputId": "113f46d6-ecee-4d88-f7fc-e92791711f01"
      },
      "execution_count": 7,
      "outputs": [
        {
          "output_type": "execute_result",
          "data": {
            "text/plain": [
              "       UniqueID                   LandUse  \\\n",
              "0         2045.0            SINGLE FAMILY   \n",
              "1        16918.0            SINGLE FAMILY   \n",
              "2        54582.0            SINGLE FAMILY   \n",
              "3        43070.0            SINGLE FAMILY   \n",
              "4        22714.0            SINGLE FAMILY   \n",
              "...          ...                      ...   \n",
              "56443    30469.0            SINGLE FAMILY   \n",
              "56444    27707.0            SINGLE FAMILY   \n",
              "56445    52709.0  VACANT RESIDENTIAL LAND   \n",
              "56446    54042.0  VACANT RESIDENTIAL LAND   \n",
              "56447    54043.0  VACANT RESIDENTIAL LAND   \n",
              "\n",
              "                           PropertyAddress   SaleDate  SalePrice      Acre  \\\n",
              "0       1808  FOX CHASE DR, GOODLETTSVILLE 2013-04-09   240000.0  2.300000   \n",
              "1       1832  FOX CHASE DR, GOODLETTSVILLE 2014-06-10   366000.0  3.500000   \n",
              "2       1864 FOX CHASE  DR, GOODLETTSVILLE 2016-09-26   435000.0  2.900000   \n",
              "3       1853  FOX CHASE DR, GOODLETTSVILLE 2016-01-29   255000.0  2.600000   \n",
              "4       1829  FOX CHASE DR, GOODLETTSVILLE 2014-10-10   278000.0  2.000000   \n",
              "...                                    ...        ...        ...       ...   \n",
              "56443  1435  WINDING CREEK DR, NOLENSVILLE 2015-05-27   157500.0  0.498923   \n",
              "56444  1423  WINDING CREEK DR, NOLENSVILLE 2015-03-02   145000.0  0.498923   \n",
              "56445    1804 GRACE POINT  LN, NOLENSVILLE 2016-08-16   234611.0  0.498923   \n",
              "56446   1709 PARK TERRACE  LN, NOLENSVILLE 2016-09-07    93844.0  0.498923   \n",
              "56447   1713 PARK TERRACE  LN, NOLENSVILLE 2016-09-07    93844.0  0.498923   \n",
              "\n",
              "          LandValue  BuildingValue     TotalValue    YearBuilt  Bedrooms  \\\n",
              "0      50000.000000  168200.000000  235700.000000  1986.000000  3.000000   \n",
              "1      50000.000000  264100.000000  319000.000000  1998.000000  3.000000   \n",
              "2      50000.000000  216200.000000  298000.000000  1987.000000  4.000000   \n",
              "3      50000.000000  147300.000000  197300.000000  1985.000000  3.000000   \n",
              "4      50000.000000  152300.000000  202300.000000  1984.000000  4.000000   \n",
              "...             ...            ...            ...          ...       ...   \n",
              "56443  69068.557601  160784.677109  232375.398847  1963.744899  3.089912   \n",
              "56444  69068.557601  160784.677109  232375.398847  1963.744899  3.089912   \n",
              "56445  69068.557601  160784.677109  232375.398847  1963.744899  3.089912   \n",
              "56446  69068.557601  160784.677109  232375.398847  1963.744899  3.089912   \n",
              "56447  69068.557601  160784.677109  232375.398847  1963.744899  3.089912   \n",
              "\n",
              "       FullBath  HalfBath  Year  Month  Day  \n",
              "0      3.000000  0.000000  2013      4    9  \n",
              "1      3.000000  2.000000  2014      6   10  \n",
              "2      3.000000  0.000000  2016      9   26  \n",
              "3      3.000000  0.000000  2016      1   29  \n",
              "4      3.000000  0.000000  2014     10   10  \n",
              "...         ...       ...   ...    ...  ...  \n",
              "56443  1.886014  0.283921  2015      5   27  \n",
              "56444  1.886014  0.283921  2015      3    2  \n",
              "56445  1.886014  0.283921  2016      8   16  \n",
              "56446  1.886014  0.283921  2016      9    7  \n",
              "56447  1.886014  0.283921  2016      9    7  \n",
              "\n",
              "[56448 rows x 16 columns]"
            ],
            "text/html": [
              "\n",
              "  <div id=\"df-be7b25ca-47b0-451f-9fee-2e4685b46908\">\n",
              "    <div class=\"colab-df-container\">\n",
              "      <div>\n",
              "<style scoped>\n",
              "    .dataframe tbody tr th:only-of-type {\n",
              "        vertical-align: middle;\n",
              "    }\n",
              "\n",
              "    .dataframe tbody tr th {\n",
              "        vertical-align: top;\n",
              "    }\n",
              "\n",
              "    .dataframe thead th {\n",
              "        text-align: right;\n",
              "    }\n",
              "</style>\n",
              "<table border=\"1\" class=\"dataframe\">\n",
              "  <thead>\n",
              "    <tr style=\"text-align: right;\">\n",
              "      <th></th>\n",
              "      <th>UniqueID</th>\n",
              "      <th>LandUse</th>\n",
              "      <th>PropertyAddress</th>\n",
              "      <th>SaleDate</th>\n",
              "      <th>SalePrice</th>\n",
              "      <th>Acre</th>\n",
              "      <th>LandValue</th>\n",
              "      <th>BuildingValue</th>\n",
              "      <th>TotalValue</th>\n",
              "      <th>YearBuilt</th>\n",
              "      <th>Bedrooms</th>\n",
              "      <th>FullBath</th>\n",
              "      <th>HalfBath</th>\n",
              "      <th>Year</th>\n",
              "      <th>Month</th>\n",
              "      <th>Day</th>\n",
              "    </tr>\n",
              "  </thead>\n",
              "  <tbody>\n",
              "    <tr>\n",
              "      <th>0</th>\n",
              "      <td>2045.0</td>\n",
              "      <td>SINGLE FAMILY</td>\n",
              "      <td>1808  FOX CHASE DR, GOODLETTSVILLE</td>\n",
              "      <td>2013-04-09</td>\n",
              "      <td>240000.0</td>\n",
              "      <td>2.300000</td>\n",
              "      <td>50000.000000</td>\n",
              "      <td>168200.000000</td>\n",
              "      <td>235700.000000</td>\n",
              "      <td>1986.000000</td>\n",
              "      <td>3.000000</td>\n",
              "      <td>3.000000</td>\n",
              "      <td>0.000000</td>\n",
              "      <td>2013</td>\n",
              "      <td>4</td>\n",
              "      <td>9</td>\n",
              "    </tr>\n",
              "    <tr>\n",
              "      <th>1</th>\n",
              "      <td>16918.0</td>\n",
              "      <td>SINGLE FAMILY</td>\n",
              "      <td>1832  FOX CHASE DR, GOODLETTSVILLE</td>\n",
              "      <td>2014-06-10</td>\n",
              "      <td>366000.0</td>\n",
              "      <td>3.500000</td>\n",
              "      <td>50000.000000</td>\n",
              "      <td>264100.000000</td>\n",
              "      <td>319000.000000</td>\n",
              "      <td>1998.000000</td>\n",
              "      <td>3.000000</td>\n",
              "      <td>3.000000</td>\n",
              "      <td>2.000000</td>\n",
              "      <td>2014</td>\n",
              "      <td>6</td>\n",
              "      <td>10</td>\n",
              "    </tr>\n",
              "    <tr>\n",
              "      <th>2</th>\n",
              "      <td>54582.0</td>\n",
              "      <td>SINGLE FAMILY</td>\n",
              "      <td>1864 FOX CHASE  DR, GOODLETTSVILLE</td>\n",
              "      <td>2016-09-26</td>\n",
              "      <td>435000.0</td>\n",
              "      <td>2.900000</td>\n",
              "      <td>50000.000000</td>\n",
              "      <td>216200.000000</td>\n",
              "      <td>298000.000000</td>\n",
              "      <td>1987.000000</td>\n",
              "      <td>4.000000</td>\n",
              "      <td>3.000000</td>\n",
              "      <td>0.000000</td>\n",
              "      <td>2016</td>\n",
              "      <td>9</td>\n",
              "      <td>26</td>\n",
              "    </tr>\n",
              "    <tr>\n",
              "      <th>3</th>\n",
              "      <td>43070.0</td>\n",
              "      <td>SINGLE FAMILY</td>\n",
              "      <td>1853  FOX CHASE DR, GOODLETTSVILLE</td>\n",
              "      <td>2016-01-29</td>\n",
              "      <td>255000.0</td>\n",
              "      <td>2.600000</td>\n",
              "      <td>50000.000000</td>\n",
              "      <td>147300.000000</td>\n",
              "      <td>197300.000000</td>\n",
              "      <td>1985.000000</td>\n",
              "      <td>3.000000</td>\n",
              "      <td>3.000000</td>\n",
              "      <td>0.000000</td>\n",
              "      <td>2016</td>\n",
              "      <td>1</td>\n",
              "      <td>29</td>\n",
              "    </tr>\n",
              "    <tr>\n",
              "      <th>4</th>\n",
              "      <td>22714.0</td>\n",
              "      <td>SINGLE FAMILY</td>\n",
              "      <td>1829  FOX CHASE DR, GOODLETTSVILLE</td>\n",
              "      <td>2014-10-10</td>\n",
              "      <td>278000.0</td>\n",
              "      <td>2.000000</td>\n",
              "      <td>50000.000000</td>\n",
              "      <td>152300.000000</td>\n",
              "      <td>202300.000000</td>\n",
              "      <td>1984.000000</td>\n",
              "      <td>4.000000</td>\n",
              "      <td>3.000000</td>\n",
              "      <td>0.000000</td>\n",
              "      <td>2014</td>\n",
              "      <td>10</td>\n",
              "      <td>10</td>\n",
              "    </tr>\n",
              "    <tr>\n",
              "      <th>...</th>\n",
              "      <td>...</td>\n",
              "      <td>...</td>\n",
              "      <td>...</td>\n",
              "      <td>...</td>\n",
              "      <td>...</td>\n",
              "      <td>...</td>\n",
              "      <td>...</td>\n",
              "      <td>...</td>\n",
              "      <td>...</td>\n",
              "      <td>...</td>\n",
              "      <td>...</td>\n",
              "      <td>...</td>\n",
              "      <td>...</td>\n",
              "      <td>...</td>\n",
              "      <td>...</td>\n",
              "      <td>...</td>\n",
              "    </tr>\n",
              "    <tr>\n",
              "      <th>56443</th>\n",
              "      <td>30469.0</td>\n",
              "      <td>SINGLE FAMILY</td>\n",
              "      <td>1435  WINDING CREEK DR, NOLENSVILLE</td>\n",
              "      <td>2015-05-27</td>\n",
              "      <td>157500.0</td>\n",
              "      <td>0.498923</td>\n",
              "      <td>69068.557601</td>\n",
              "      <td>160784.677109</td>\n",
              "      <td>232375.398847</td>\n",
              "      <td>1963.744899</td>\n",
              "      <td>3.089912</td>\n",
              "      <td>1.886014</td>\n",
              "      <td>0.283921</td>\n",
              "      <td>2015</td>\n",
              "      <td>5</td>\n",
              "      <td>27</td>\n",
              "    </tr>\n",
              "    <tr>\n",
              "      <th>56444</th>\n",
              "      <td>27707.0</td>\n",
              "      <td>SINGLE FAMILY</td>\n",
              "      <td>1423  WINDING CREEK DR, NOLENSVILLE</td>\n",
              "      <td>2015-03-02</td>\n",
              "      <td>145000.0</td>\n",
              "      <td>0.498923</td>\n",
              "      <td>69068.557601</td>\n",
              "      <td>160784.677109</td>\n",
              "      <td>232375.398847</td>\n",
              "      <td>1963.744899</td>\n",
              "      <td>3.089912</td>\n",
              "      <td>1.886014</td>\n",
              "      <td>0.283921</td>\n",
              "      <td>2015</td>\n",
              "      <td>3</td>\n",
              "      <td>2</td>\n",
              "    </tr>\n",
              "    <tr>\n",
              "      <th>56445</th>\n",
              "      <td>52709.0</td>\n",
              "      <td>VACANT RESIDENTIAL LAND</td>\n",
              "      <td>1804 GRACE POINT  LN, NOLENSVILLE</td>\n",
              "      <td>2016-08-16</td>\n",
              "      <td>234611.0</td>\n",
              "      <td>0.498923</td>\n",
              "      <td>69068.557601</td>\n",
              "      <td>160784.677109</td>\n",
              "      <td>232375.398847</td>\n",
              "      <td>1963.744899</td>\n",
              "      <td>3.089912</td>\n",
              "      <td>1.886014</td>\n",
              "      <td>0.283921</td>\n",
              "      <td>2016</td>\n",
              "      <td>8</td>\n",
              "      <td>16</td>\n",
              "    </tr>\n",
              "    <tr>\n",
              "      <th>56446</th>\n",
              "      <td>54042.0</td>\n",
              "      <td>VACANT RESIDENTIAL LAND</td>\n",
              "      <td>1709 PARK TERRACE  LN, NOLENSVILLE</td>\n",
              "      <td>2016-09-07</td>\n",
              "      <td>93844.0</td>\n",
              "      <td>0.498923</td>\n",
              "      <td>69068.557601</td>\n",
              "      <td>160784.677109</td>\n",
              "      <td>232375.398847</td>\n",
              "      <td>1963.744899</td>\n",
              "      <td>3.089912</td>\n",
              "      <td>1.886014</td>\n",
              "      <td>0.283921</td>\n",
              "      <td>2016</td>\n",
              "      <td>9</td>\n",
              "      <td>7</td>\n",
              "    </tr>\n",
              "    <tr>\n",
              "      <th>56447</th>\n",
              "      <td>54043.0</td>\n",
              "      <td>VACANT RESIDENTIAL LAND</td>\n",
              "      <td>1713 PARK TERRACE  LN, NOLENSVILLE</td>\n",
              "      <td>2016-09-07</td>\n",
              "      <td>93844.0</td>\n",
              "      <td>0.498923</td>\n",
              "      <td>69068.557601</td>\n",
              "      <td>160784.677109</td>\n",
              "      <td>232375.398847</td>\n",
              "      <td>1963.744899</td>\n",
              "      <td>3.089912</td>\n",
              "      <td>1.886014</td>\n",
              "      <td>0.283921</td>\n",
              "      <td>2016</td>\n",
              "      <td>9</td>\n",
              "      <td>7</td>\n",
              "    </tr>\n",
              "  </tbody>\n",
              "</table>\n",
              "<p>56448 rows × 16 columns</p>\n",
              "</div>\n",
              "      <button class=\"colab-df-convert\" onclick=\"convertToInteractive('df-be7b25ca-47b0-451f-9fee-2e4685b46908')\"\n",
              "              title=\"Convert this dataframe to an interactive table.\"\n",
              "              style=\"display:none;\">\n",
              "        \n",
              "  <svg xmlns=\"http://www.w3.org/2000/svg\" height=\"24px\"viewBox=\"0 0 24 24\"\n",
              "       width=\"24px\">\n",
              "    <path d=\"M0 0h24v24H0V0z\" fill=\"none\"/>\n",
              "    <path d=\"M18.56 5.44l.94 2.06.94-2.06 2.06-.94-2.06-.94-.94-2.06-.94 2.06-2.06.94zm-11 1L8.5 8.5l.94-2.06 2.06-.94-2.06-.94L8.5 2.5l-.94 2.06-2.06.94zm10 10l.94 2.06.94-2.06 2.06-.94-2.06-.94-.94-2.06-.94 2.06-2.06.94z\"/><path d=\"M17.41 7.96l-1.37-1.37c-.4-.4-.92-.59-1.43-.59-.52 0-1.04.2-1.43.59L10.3 9.45l-7.72 7.72c-.78.78-.78 2.05 0 2.83L4 21.41c.39.39.9.59 1.41.59.51 0 1.02-.2 1.41-.59l7.78-7.78 2.81-2.81c.8-.78.8-2.07 0-2.86zM5.41 20L4 18.59l7.72-7.72 1.47 1.35L5.41 20z\"/>\n",
              "  </svg>\n",
              "      </button>\n",
              "      \n",
              "  <style>\n",
              "    .colab-df-container {\n",
              "      display:flex;\n",
              "      flex-wrap:wrap;\n",
              "      gap: 12px;\n",
              "    }\n",
              "\n",
              "    .colab-df-convert {\n",
              "      background-color: #E8F0FE;\n",
              "      border: none;\n",
              "      border-radius: 50%;\n",
              "      cursor: pointer;\n",
              "      display: none;\n",
              "      fill: #1967D2;\n",
              "      height: 32px;\n",
              "      padding: 0 0 0 0;\n",
              "      width: 32px;\n",
              "    }\n",
              "\n",
              "    .colab-df-convert:hover {\n",
              "      background-color: #E2EBFA;\n",
              "      box-shadow: 0px 1px 2px rgba(60, 64, 67, 0.3), 0px 1px 3px 1px rgba(60, 64, 67, 0.15);\n",
              "      fill: #174EA6;\n",
              "    }\n",
              "\n",
              "    [theme=dark] .colab-df-convert {\n",
              "      background-color: #3B4455;\n",
              "      fill: #D2E3FC;\n",
              "    }\n",
              "\n",
              "    [theme=dark] .colab-df-convert:hover {\n",
              "      background-color: #434B5C;\n",
              "      box-shadow: 0px 1px 3px 1px rgba(0, 0, 0, 0.15);\n",
              "      filter: drop-shadow(0px 1px 2px rgba(0, 0, 0, 0.3));\n",
              "      fill: #FFFFFF;\n",
              "    }\n",
              "  </style>\n",
              "\n",
              "      <script>\n",
              "        const buttonEl =\n",
              "          document.querySelector('#df-be7b25ca-47b0-451f-9fee-2e4685b46908 button.colab-df-convert');\n",
              "        buttonEl.style.display =\n",
              "          google.colab.kernel.accessAllowed ? 'block' : 'none';\n",
              "\n",
              "        async function convertToInteractive(key) {\n",
              "          const element = document.querySelector('#df-be7b25ca-47b0-451f-9fee-2e4685b46908');\n",
              "          const dataTable =\n",
              "            await google.colab.kernel.invokeFunction('convertToInteractive',\n",
              "                                                     [key], {});\n",
              "          if (!dataTable) return;\n",
              "\n",
              "          const docLinkHtml = 'Like what you see? Visit the ' +\n",
              "            '<a target=\"_blank\" href=https://colab.research.google.com/notebooks/data_table.ipynb>data table notebook</a>'\n",
              "            + ' to learn more about interactive tables.';\n",
              "          element.innerHTML = '';\n",
              "          dataTable['output_type'] = 'display_data';\n",
              "          await google.colab.output.renderOutput(dataTable, element);\n",
              "          const docLink = document.createElement('div');\n",
              "          docLink.innerHTML = docLinkHtml;\n",
              "          element.appendChild(docLink);\n",
              "        }\n",
              "      </script>\n",
              "    </div>\n",
              "  </div>\n",
              "  "
            ]
          },
          "metadata": {},
          "execution_count": 7
        }
      ]
    },
    {
      "cell_type": "markdown",
      "source": [
        "4.Extract the pin number from the property address\n"
      ],
      "metadata": {
        "id": "LMbYovUDdK1b"
      }
    },
    {
      "cell_type": "code",
      "source": [
        "data[\"Pin\"]=data['PropertyAddress'].str.slice(0,4)\n",
        "data"
      ],
      "metadata": {
        "id": "v7hG3SOZdUaA",
        "colab": {
          "base_uri": "https://localhost:8080/",
          "height": 834
        },
        "outputId": "3859b801-92d2-472e-bd57-d74005d23716"
      },
      "execution_count": 8,
      "outputs": [
        {
          "output_type": "execute_result",
          "data": {
            "text/plain": [
              "       UniqueID                   LandUse  \\\n",
              "0         2045.0            SINGLE FAMILY   \n",
              "1        16918.0            SINGLE FAMILY   \n",
              "2        54582.0            SINGLE FAMILY   \n",
              "3        43070.0            SINGLE FAMILY   \n",
              "4        22714.0            SINGLE FAMILY   \n",
              "...          ...                      ...   \n",
              "56443    30469.0            SINGLE FAMILY   \n",
              "56444    27707.0            SINGLE FAMILY   \n",
              "56445    52709.0  VACANT RESIDENTIAL LAND   \n",
              "56446    54042.0  VACANT RESIDENTIAL LAND   \n",
              "56447    54043.0  VACANT RESIDENTIAL LAND   \n",
              "\n",
              "                           PropertyAddress   SaleDate  SalePrice      Acre  \\\n",
              "0       1808  FOX CHASE DR, GOODLETTSVILLE 2013-04-09   240000.0  2.300000   \n",
              "1       1832  FOX CHASE DR, GOODLETTSVILLE 2014-06-10   366000.0  3.500000   \n",
              "2       1864 FOX CHASE  DR, GOODLETTSVILLE 2016-09-26   435000.0  2.900000   \n",
              "3       1853  FOX CHASE DR, GOODLETTSVILLE 2016-01-29   255000.0  2.600000   \n",
              "4       1829  FOX CHASE DR, GOODLETTSVILLE 2014-10-10   278000.0  2.000000   \n",
              "...                                    ...        ...        ...       ...   \n",
              "56443  1435  WINDING CREEK DR, NOLENSVILLE 2015-05-27   157500.0  0.498923   \n",
              "56444  1423  WINDING CREEK DR, NOLENSVILLE 2015-03-02   145000.0  0.498923   \n",
              "56445    1804 GRACE POINT  LN, NOLENSVILLE 2016-08-16   234611.0  0.498923   \n",
              "56446   1709 PARK TERRACE  LN, NOLENSVILLE 2016-09-07    93844.0  0.498923   \n",
              "56447   1713 PARK TERRACE  LN, NOLENSVILLE 2016-09-07    93844.0  0.498923   \n",
              "\n",
              "          LandValue  BuildingValue     TotalValue    YearBuilt  Bedrooms  \\\n",
              "0      50000.000000  168200.000000  235700.000000  1986.000000  3.000000   \n",
              "1      50000.000000  264100.000000  319000.000000  1998.000000  3.000000   \n",
              "2      50000.000000  216200.000000  298000.000000  1987.000000  4.000000   \n",
              "3      50000.000000  147300.000000  197300.000000  1985.000000  3.000000   \n",
              "4      50000.000000  152300.000000  202300.000000  1984.000000  4.000000   \n",
              "...             ...            ...            ...          ...       ...   \n",
              "56443  69068.557601  160784.677109  232375.398847  1963.744899  3.089912   \n",
              "56444  69068.557601  160784.677109  232375.398847  1963.744899  3.089912   \n",
              "56445  69068.557601  160784.677109  232375.398847  1963.744899  3.089912   \n",
              "56446  69068.557601  160784.677109  232375.398847  1963.744899  3.089912   \n",
              "56447  69068.557601  160784.677109  232375.398847  1963.744899  3.089912   \n",
              "\n",
              "       FullBath  HalfBath  Year  Month  Day   Pin  \n",
              "0      3.000000  0.000000  2013      4    9  1808  \n",
              "1      3.000000  2.000000  2014      6   10  1832  \n",
              "2      3.000000  0.000000  2016      9   26  1864  \n",
              "3      3.000000  0.000000  2016      1   29  1853  \n",
              "4      3.000000  0.000000  2014     10   10  1829  \n",
              "...         ...       ...   ...    ...  ...   ...  \n",
              "56443  1.886014  0.283921  2015      5   27  1435  \n",
              "56444  1.886014  0.283921  2015      3    2  1423  \n",
              "56445  1.886014  0.283921  2016      8   16  1804  \n",
              "56446  1.886014  0.283921  2016      9    7  1709  \n",
              "56447  1.886014  0.283921  2016      9    7  1713  \n",
              "\n",
              "[56448 rows x 17 columns]"
            ],
            "text/html": [
              "\n",
              "  <div id=\"df-04010e17-24b6-4d54-8b42-8d657bf6cb3c\">\n",
              "    <div class=\"colab-df-container\">\n",
              "      <div>\n",
              "<style scoped>\n",
              "    .dataframe tbody tr th:only-of-type {\n",
              "        vertical-align: middle;\n",
              "    }\n",
              "\n",
              "    .dataframe tbody tr th {\n",
              "        vertical-align: top;\n",
              "    }\n",
              "\n",
              "    .dataframe thead th {\n",
              "        text-align: right;\n",
              "    }\n",
              "</style>\n",
              "<table border=\"1\" class=\"dataframe\">\n",
              "  <thead>\n",
              "    <tr style=\"text-align: right;\">\n",
              "      <th></th>\n",
              "      <th>UniqueID</th>\n",
              "      <th>LandUse</th>\n",
              "      <th>PropertyAddress</th>\n",
              "      <th>SaleDate</th>\n",
              "      <th>SalePrice</th>\n",
              "      <th>Acre</th>\n",
              "      <th>LandValue</th>\n",
              "      <th>BuildingValue</th>\n",
              "      <th>TotalValue</th>\n",
              "      <th>YearBuilt</th>\n",
              "      <th>Bedrooms</th>\n",
              "      <th>FullBath</th>\n",
              "      <th>HalfBath</th>\n",
              "      <th>Year</th>\n",
              "      <th>Month</th>\n",
              "      <th>Day</th>\n",
              "      <th>Pin</th>\n",
              "    </tr>\n",
              "  </thead>\n",
              "  <tbody>\n",
              "    <tr>\n",
              "      <th>0</th>\n",
              "      <td>2045.0</td>\n",
              "      <td>SINGLE FAMILY</td>\n",
              "      <td>1808  FOX CHASE DR, GOODLETTSVILLE</td>\n",
              "      <td>2013-04-09</td>\n",
              "      <td>240000.0</td>\n",
              "      <td>2.300000</td>\n",
              "      <td>50000.000000</td>\n",
              "      <td>168200.000000</td>\n",
              "      <td>235700.000000</td>\n",
              "      <td>1986.000000</td>\n",
              "      <td>3.000000</td>\n",
              "      <td>3.000000</td>\n",
              "      <td>0.000000</td>\n",
              "      <td>2013</td>\n",
              "      <td>4</td>\n",
              "      <td>9</td>\n",
              "      <td>1808</td>\n",
              "    </tr>\n",
              "    <tr>\n",
              "      <th>1</th>\n",
              "      <td>16918.0</td>\n",
              "      <td>SINGLE FAMILY</td>\n",
              "      <td>1832  FOX CHASE DR, GOODLETTSVILLE</td>\n",
              "      <td>2014-06-10</td>\n",
              "      <td>366000.0</td>\n",
              "      <td>3.500000</td>\n",
              "      <td>50000.000000</td>\n",
              "      <td>264100.000000</td>\n",
              "      <td>319000.000000</td>\n",
              "      <td>1998.000000</td>\n",
              "      <td>3.000000</td>\n",
              "      <td>3.000000</td>\n",
              "      <td>2.000000</td>\n",
              "      <td>2014</td>\n",
              "      <td>6</td>\n",
              "      <td>10</td>\n",
              "      <td>1832</td>\n",
              "    </tr>\n",
              "    <tr>\n",
              "      <th>2</th>\n",
              "      <td>54582.0</td>\n",
              "      <td>SINGLE FAMILY</td>\n",
              "      <td>1864 FOX CHASE  DR, GOODLETTSVILLE</td>\n",
              "      <td>2016-09-26</td>\n",
              "      <td>435000.0</td>\n",
              "      <td>2.900000</td>\n",
              "      <td>50000.000000</td>\n",
              "      <td>216200.000000</td>\n",
              "      <td>298000.000000</td>\n",
              "      <td>1987.000000</td>\n",
              "      <td>4.000000</td>\n",
              "      <td>3.000000</td>\n",
              "      <td>0.000000</td>\n",
              "      <td>2016</td>\n",
              "      <td>9</td>\n",
              "      <td>26</td>\n",
              "      <td>1864</td>\n",
              "    </tr>\n",
              "    <tr>\n",
              "      <th>3</th>\n",
              "      <td>43070.0</td>\n",
              "      <td>SINGLE FAMILY</td>\n",
              "      <td>1853  FOX CHASE DR, GOODLETTSVILLE</td>\n",
              "      <td>2016-01-29</td>\n",
              "      <td>255000.0</td>\n",
              "      <td>2.600000</td>\n",
              "      <td>50000.000000</td>\n",
              "      <td>147300.000000</td>\n",
              "      <td>197300.000000</td>\n",
              "      <td>1985.000000</td>\n",
              "      <td>3.000000</td>\n",
              "      <td>3.000000</td>\n",
              "      <td>0.000000</td>\n",
              "      <td>2016</td>\n",
              "      <td>1</td>\n",
              "      <td>29</td>\n",
              "      <td>1853</td>\n",
              "    </tr>\n",
              "    <tr>\n",
              "      <th>4</th>\n",
              "      <td>22714.0</td>\n",
              "      <td>SINGLE FAMILY</td>\n",
              "      <td>1829  FOX CHASE DR, GOODLETTSVILLE</td>\n",
              "      <td>2014-10-10</td>\n",
              "      <td>278000.0</td>\n",
              "      <td>2.000000</td>\n",
              "      <td>50000.000000</td>\n",
              "      <td>152300.000000</td>\n",
              "      <td>202300.000000</td>\n",
              "      <td>1984.000000</td>\n",
              "      <td>4.000000</td>\n",
              "      <td>3.000000</td>\n",
              "      <td>0.000000</td>\n",
              "      <td>2014</td>\n",
              "      <td>10</td>\n",
              "      <td>10</td>\n",
              "      <td>1829</td>\n",
              "    </tr>\n",
              "    <tr>\n",
              "      <th>...</th>\n",
              "      <td>...</td>\n",
              "      <td>...</td>\n",
              "      <td>...</td>\n",
              "      <td>...</td>\n",
              "      <td>...</td>\n",
              "      <td>...</td>\n",
              "      <td>...</td>\n",
              "      <td>...</td>\n",
              "      <td>...</td>\n",
              "      <td>...</td>\n",
              "      <td>...</td>\n",
              "      <td>...</td>\n",
              "      <td>...</td>\n",
              "      <td>...</td>\n",
              "      <td>...</td>\n",
              "      <td>...</td>\n",
              "      <td>...</td>\n",
              "    </tr>\n",
              "    <tr>\n",
              "      <th>56443</th>\n",
              "      <td>30469.0</td>\n",
              "      <td>SINGLE FAMILY</td>\n",
              "      <td>1435  WINDING CREEK DR, NOLENSVILLE</td>\n",
              "      <td>2015-05-27</td>\n",
              "      <td>157500.0</td>\n",
              "      <td>0.498923</td>\n",
              "      <td>69068.557601</td>\n",
              "      <td>160784.677109</td>\n",
              "      <td>232375.398847</td>\n",
              "      <td>1963.744899</td>\n",
              "      <td>3.089912</td>\n",
              "      <td>1.886014</td>\n",
              "      <td>0.283921</td>\n",
              "      <td>2015</td>\n",
              "      <td>5</td>\n",
              "      <td>27</td>\n",
              "      <td>1435</td>\n",
              "    </tr>\n",
              "    <tr>\n",
              "      <th>56444</th>\n",
              "      <td>27707.0</td>\n",
              "      <td>SINGLE FAMILY</td>\n",
              "      <td>1423  WINDING CREEK DR, NOLENSVILLE</td>\n",
              "      <td>2015-03-02</td>\n",
              "      <td>145000.0</td>\n",
              "      <td>0.498923</td>\n",
              "      <td>69068.557601</td>\n",
              "      <td>160784.677109</td>\n",
              "      <td>232375.398847</td>\n",
              "      <td>1963.744899</td>\n",
              "      <td>3.089912</td>\n",
              "      <td>1.886014</td>\n",
              "      <td>0.283921</td>\n",
              "      <td>2015</td>\n",
              "      <td>3</td>\n",
              "      <td>2</td>\n",
              "      <td>1423</td>\n",
              "    </tr>\n",
              "    <tr>\n",
              "      <th>56445</th>\n",
              "      <td>52709.0</td>\n",
              "      <td>VACANT RESIDENTIAL LAND</td>\n",
              "      <td>1804 GRACE POINT  LN, NOLENSVILLE</td>\n",
              "      <td>2016-08-16</td>\n",
              "      <td>234611.0</td>\n",
              "      <td>0.498923</td>\n",
              "      <td>69068.557601</td>\n",
              "      <td>160784.677109</td>\n",
              "      <td>232375.398847</td>\n",
              "      <td>1963.744899</td>\n",
              "      <td>3.089912</td>\n",
              "      <td>1.886014</td>\n",
              "      <td>0.283921</td>\n",
              "      <td>2016</td>\n",
              "      <td>8</td>\n",
              "      <td>16</td>\n",
              "      <td>1804</td>\n",
              "    </tr>\n",
              "    <tr>\n",
              "      <th>56446</th>\n",
              "      <td>54042.0</td>\n",
              "      <td>VACANT RESIDENTIAL LAND</td>\n",
              "      <td>1709 PARK TERRACE  LN, NOLENSVILLE</td>\n",
              "      <td>2016-09-07</td>\n",
              "      <td>93844.0</td>\n",
              "      <td>0.498923</td>\n",
              "      <td>69068.557601</td>\n",
              "      <td>160784.677109</td>\n",
              "      <td>232375.398847</td>\n",
              "      <td>1963.744899</td>\n",
              "      <td>3.089912</td>\n",
              "      <td>1.886014</td>\n",
              "      <td>0.283921</td>\n",
              "      <td>2016</td>\n",
              "      <td>9</td>\n",
              "      <td>7</td>\n",
              "      <td>1709</td>\n",
              "    </tr>\n",
              "    <tr>\n",
              "      <th>56447</th>\n",
              "      <td>54043.0</td>\n",
              "      <td>VACANT RESIDENTIAL LAND</td>\n",
              "      <td>1713 PARK TERRACE  LN, NOLENSVILLE</td>\n",
              "      <td>2016-09-07</td>\n",
              "      <td>93844.0</td>\n",
              "      <td>0.498923</td>\n",
              "      <td>69068.557601</td>\n",
              "      <td>160784.677109</td>\n",
              "      <td>232375.398847</td>\n",
              "      <td>1963.744899</td>\n",
              "      <td>3.089912</td>\n",
              "      <td>1.886014</td>\n",
              "      <td>0.283921</td>\n",
              "      <td>2016</td>\n",
              "      <td>9</td>\n",
              "      <td>7</td>\n",
              "      <td>1713</td>\n",
              "    </tr>\n",
              "  </tbody>\n",
              "</table>\n",
              "<p>56448 rows × 17 columns</p>\n",
              "</div>\n",
              "      <button class=\"colab-df-convert\" onclick=\"convertToInteractive('df-04010e17-24b6-4d54-8b42-8d657bf6cb3c')\"\n",
              "              title=\"Convert this dataframe to an interactive table.\"\n",
              "              style=\"display:none;\">\n",
              "        \n",
              "  <svg xmlns=\"http://www.w3.org/2000/svg\" height=\"24px\"viewBox=\"0 0 24 24\"\n",
              "       width=\"24px\">\n",
              "    <path d=\"M0 0h24v24H0V0z\" fill=\"none\"/>\n",
              "    <path d=\"M18.56 5.44l.94 2.06.94-2.06 2.06-.94-2.06-.94-.94-2.06-.94 2.06-2.06.94zm-11 1L8.5 8.5l.94-2.06 2.06-.94-2.06-.94L8.5 2.5l-.94 2.06-2.06.94zm10 10l.94 2.06.94-2.06 2.06-.94-2.06-.94-.94-2.06-.94 2.06-2.06.94z\"/><path d=\"M17.41 7.96l-1.37-1.37c-.4-.4-.92-.59-1.43-.59-.52 0-1.04.2-1.43.59L10.3 9.45l-7.72 7.72c-.78.78-.78 2.05 0 2.83L4 21.41c.39.39.9.59 1.41.59.51 0 1.02-.2 1.41-.59l7.78-7.78 2.81-2.81c.8-.78.8-2.07 0-2.86zM5.41 20L4 18.59l7.72-7.72 1.47 1.35L5.41 20z\"/>\n",
              "  </svg>\n",
              "      </button>\n",
              "      \n",
              "  <style>\n",
              "    .colab-df-container {\n",
              "      display:flex;\n",
              "      flex-wrap:wrap;\n",
              "      gap: 12px;\n",
              "    }\n",
              "\n",
              "    .colab-df-convert {\n",
              "      background-color: #E8F0FE;\n",
              "      border: none;\n",
              "      border-radius: 50%;\n",
              "      cursor: pointer;\n",
              "      display: none;\n",
              "      fill: #1967D2;\n",
              "      height: 32px;\n",
              "      padding: 0 0 0 0;\n",
              "      width: 32px;\n",
              "    }\n",
              "\n",
              "    .colab-df-convert:hover {\n",
              "      background-color: #E2EBFA;\n",
              "      box-shadow: 0px 1px 2px rgba(60, 64, 67, 0.3), 0px 1px 3px 1px rgba(60, 64, 67, 0.15);\n",
              "      fill: #174EA6;\n",
              "    }\n",
              "\n",
              "    [theme=dark] .colab-df-convert {\n",
              "      background-color: #3B4455;\n",
              "      fill: #D2E3FC;\n",
              "    }\n",
              "\n",
              "    [theme=dark] .colab-df-convert:hover {\n",
              "      background-color: #434B5C;\n",
              "      box-shadow: 0px 1px 3px 1px rgba(0, 0, 0, 0.15);\n",
              "      filter: drop-shadow(0px 1px 2px rgba(0, 0, 0, 0.3));\n",
              "      fill: #FFFFFF;\n",
              "    }\n",
              "  </style>\n",
              "\n",
              "      <script>\n",
              "        const buttonEl =\n",
              "          document.querySelector('#df-04010e17-24b6-4d54-8b42-8d657bf6cb3c button.colab-df-convert');\n",
              "        buttonEl.style.display =\n",
              "          google.colab.kernel.accessAllowed ? 'block' : 'none';\n",
              "\n",
              "        async function convertToInteractive(key) {\n",
              "          const element = document.querySelector('#df-04010e17-24b6-4d54-8b42-8d657bf6cb3c');\n",
              "          const dataTable =\n",
              "            await google.colab.kernel.invokeFunction('convertToInteractive',\n",
              "                                                     [key], {});\n",
              "          if (!dataTable) return;\n",
              "\n",
              "          const docLinkHtml = 'Like what you see? Visit the ' +\n",
              "            '<a target=\"_blank\" href=https://colab.research.google.com/notebooks/data_table.ipynb>data table notebook</a>'\n",
              "            + ' to learn more about interactive tables.';\n",
              "          element.innerHTML = '';\n",
              "          dataTable['output_type'] = 'display_data';\n",
              "          await google.colab.output.renderOutput(dataTable, element);\n",
              "          const docLink = document.createElement('div');\n",
              "          docLink.innerHTML = docLinkHtml;\n",
              "          element.appendChild(docLink);\n",
              "        }\n",
              "      </script>\n",
              "    </div>\n",
              "  </div>\n",
              "  "
            ]
          },
          "metadata": {},
          "execution_count": 8
        }
      ]
    },
    {
      "cell_type": "markdown",
      "source": [
        "EDA\n",
        "\n",
        "1.How has the price of properties changed over the years\n"
      ],
      "metadata": {
        "id": "gTTwyhn0epBi"
      }
    },
    {
      "cell_type": "code",
      "source": [
        "sales_grouped_data = data.groupby('Year')['TotalValue'].mean()\n",
        "sns.set(rc={'figure.figsize':(10,5)})\n",
        "sns.barplot(x=sales_grouped_data.index, y=sales_grouped_data.values)"
      ],
      "metadata": {
        "colab": {
          "base_uri": "https://localhost:8080/",
          "height": 357
        },
        "id": "tQw5SoEse1CJ",
        "outputId": "f21bcbaf-52e2-4444-e6f4-212185cb6b2b"
      },
      "execution_count": 9,
      "outputs": [
        {
          "output_type": "execute_result",
          "data": {
            "text/plain": [
              "<matplotlib.axes._subplots.AxesSubplot at 0x7fb489bf0550>"
            ]
          },
          "metadata": {},
          "execution_count": 9
        },
        {
          "output_type": "display_data",
          "data": {
            "text/plain": [
              "<Figure size 720x360 with 1 Axes>"
            ],
            "image/png": "[encoded data removed]"
          },
          "metadata": {}
        }
      ]
    },
    {
      "cell_type": "markdown",
      "source": [
        "2.Does a specific month or span of months have the highest property prices?"
      ],
      "metadata": {
        "id": "oL_20nR-gj9V"
      }
    },
    {
      "cell_type": "code",
      "source": [
        "month_grouped_data=data.groupby('Month')['TotalValue'].mean()\n",
        "month_grouped_data"
      ],
      "metadata": {
        "colab": {
          "base_uri": "https://localhost:8080/"
        },
        "id": "LKLmU36rg18N",
        "outputId": "66b95a98-8c47-48c9-8650-1ced5635d586"
      },
      "execution_count": 10,
      "outputs": [
        {
          "output_type": "execute_result",
          "data": {
            "text/plain": [
              "Month\n",
              "1     230271.966277\n",
              "2     229443.987791\n",
              "3     225636.415592\n",
              "4     233302.875766\n",
              "5     234779.778462\n",
              "6     242604.991433\n",
              "7     234613.772727\n",
              "8     232716.948531\n",
              "9     228412.883323\n",
              "10    228221.168478\n",
              "11    231420.693613\n",
              "12    229828.784849\n",
              "Name: TotalValue, dtype: float64"
            ]
          },
          "metadata": {},
          "execution_count": 10
        }
      ]
    },
    {
      "cell_type": "code",
      "source": [
        "sns.set(rc={'figure.figsize':(10,5)})\n",
        "sns.barplot(x=month_grouped_data.index,y=month_grouped_data.values)"
      ],
      "metadata": {
        "colab": {
          "base_uri": "https://localhost:8080/",
          "height": 357
        },
        "id": "icg6uprXhI6M",
        "outputId": "a0c4f4a4-5b77-4fae-dc76-231ef392a919"
      },
      "execution_count": 11,
      "outputs": [
        {
          "output_type": "execute_result",
          "data": {
            "text/plain": [
              "<matplotlib.axes._subplots.AxesSubplot at 0x7fb489902c90>"
            ]
          },
          "metadata": {},
          "execution_count": 11
        },
        {
          "output_type": "display_data",
          "data": {
            "text/plain": [
              "<Figure size 720x360 with 1 Axes>"
            ],
            "image/png": "[encoded data removed]"
          },
          "metadata": {}
        }
      ]
    },
    {
      "cell_type": "markdown",
      "source": [
        "1.For what purpose were the properties generally purchased?"
      ],
      "metadata": {
        "id": "PAd96IRNhm1M"
      }
    },
    {
      "cell_type": "code",
      "source": [
        "land_grouped_data=data.groupby('LandUse')['TotalValue'].count()\n",
        "land_grouped_data"
      ],
      "metadata": {
        "colab": {
          "base_uri": "https://localhost:8080/"
        },
        "id": "DFqjuN3ihviA",
        "outputId": "ac4e22ba-3b7f-42b1-83f2-1b32ac797696"
      },
      "execution_count": 12,
      "outputs": [
        {
          "output_type": "execute_result",
          "data": {
            "text/plain": [
              "LandUse\n",
              "APARTMENT: LOW RISE (BUILT SINCE 1960)            2\n",
              "CHURCH                                           34\n",
              "CLUB/UNION HALL/LODGE                             1\n",
              "CONDO                                           247\n",
              "CONDOMINIUM OFC  OR OTHER COM CONDO              35\n",
              "CONVENIENCE MARKET WITHOUT GAS                    1\n",
              "DAY CARE CENTER                                   2\n",
              "DORMITORY/BOARDING HOUSE                         19\n",
              "DUPLEX                                         1373\n",
              "FOREST                                           10\n",
              "GREENBELT                                        10\n",
              "GREENBELT/RES\\nGRRENBELT/RES                      3\n",
              "LIGHT MANUFACTURING                               1\n",
              "METRO OTHER THAN OFC, SCHOOL,HOSP, OR PARK        1\n",
              "MOBILE HOME                                      20\n",
              "MORTUARY/CEMETERY                                 1\n",
              "NIGHTCLUB/LOUNGE                                  1\n",
              "NON-PROFIT CHARITABLE SERVICE                     2\n",
              "OFFICE BLDG (ONE OR TWO STORIES)                  2\n",
              "ONE STORY GENERAL RETAIL STORE                    1\n",
              "PARKING LOT                                      11\n",
              "PARSONAGE                                         6\n",
              "QUADPLEX                                         39\n",
              "RESIDENTIAL COMBO/MISC                           95\n",
              "RESIDENTIAL CONDO                             14077\n",
              "RESTURANT/CAFETERIA                               2\n",
              "SINGLE FAMILY                                 34177\n",
              "SMALL SERVICE SHOP                                1\n",
              "SPLIT CLASS                                      17\n",
              "STRIP SHOPPING CENTER                             1\n",
              "TERMINAL/DISTRIBUTION WAREHOUSE                   2\n",
              "TRIPLEX                                          92\n",
              "VACANT COMMERCIAL LAND                           17\n",
              "VACANT RES LAND                                1548\n",
              "VACANT RESIDENTIAL LAND                        3542\n",
              "VACANT RESIENTIAL LAND                            3\n",
              "VACANT RURAL LAND                                 2\n",
              "VACANT ZONED MULTI FAMILY                         2\n",
              "ZERO LOT LINE                                  1048\n",
              "Name: TotalValue, dtype: int64"
            ]
          },
          "metadata": {},
          "execution_count": 12
        }
      ]
    },
    {
      "cell_type": "markdown",
      "source": [
        "2.What is the average age of the properties?"
      ],
      "metadata": {
        "id": "JlGrgU15iFxK"
      }
    },
    {
      "cell_type": "code",
      "source": [
        "data[\"age\"]=(2022-data['YearBuilt'])\n",
        "data[\"age\"].mean()"
      ],
      "metadata": {
        "colab": {
          "base_uri": "https://localhost:8080/"
        },
        "id": "9U075UX-iMDW",
        "outputId": "74fad41e-f38d-43f4-d887-b25ab3aa93b4"
      },
      "execution_count": 13,
      "outputs": [
        {
          "output_type": "execute_result",
          "data": {
            "text/plain": [
              "58.26003614476386"
            ]
          },
          "metadata": {},
          "execution_count": 13
        }
      ]
    },
    {
      "cell_type": "markdown",
      "source": [
        "\n",
        "1.Have the age of house affected the price?"
      ],
      "metadata": {
        "id": "CQ1tsDXxiYl_"
      }
    },
    {
      "cell_type": "code",
      "source": [
        "dyp=data.groupby(\"age\")[\"TotalValue\"].mean()\n",
        "dyp"
      ],
      "metadata": {
        "id": "rcZUm5laiiUU",
        "colab": {
          "base_uri": "https://localhost:8080/"
        },
        "outputId": "1338698c-3a30-4186-f3be-498e800a2c0a"
      },
      "execution_count": 14,
      "outputs": [
        {
          "output_type": "execute_result",
          "data": {
            "text/plain": [
              "age\n",
              "5.0      823438.461538\n",
              "6.0      509066.500000\n",
              "7.0      499540.594059\n",
              "8.0      424651.330798\n",
              "9.0      427001.683502\n",
              "             ...      \n",
              "132.0    528200.000000\n",
              "142.0    101800.000000\n",
              "152.0    369650.000000\n",
              "190.0    632200.000000\n",
              "223.0    778900.000000\n",
              "Name: TotalValue, Length: 127, dtype: float64"
            ]
          },
          "metadata": {},
          "execution_count": 14
        }
      ]
    },
    {
      "cell_type": "code",
      "source": [
        "sns.set(rc={'figure.figsize':(60,6)})\n",
        "sns.barplot(x=dyp.index,y=dyp.values)"
      ],
      "metadata": {
        "colab": {
          "base_uri": "https://localhost:8080/",
          "height": 163
        },
        "id": "WH6sKV8S2Vdd",
        "outputId": "532ff565-2e2d-491a-a68d-c75cb6c5ea0e"
      },
      "execution_count": 31,
      "outputs": [
        {
          "output_type": "execute_result",
          "data": {
            "text/plain": [
              "<matplotlib.axes._subplots.AxesSubplot at 0x7fb48665fa50>"
            ]
          },
          "metadata": {},
          "execution_count": 31
        },
        {
          "output_type": "display_data",
          "data": {
            "text/plain": [
              "<Figure size 4320x432 with 1 Axes>"
            ],
            "image/png": "[encoded data removed]"
          },
          "metadata": {}
        }
      ]
    },
    {
      "cell_type": "markdown",
      "source": [
        "1.Have the age of house affected the price?"
      ],
      "metadata": {
        "id": "OOko5KhZQOsK"
      }
    },
    {
      "cell_type": "code",
      "source": [
        "dyp=data.groupby(\"age\")[\"TotalValue\"].mean()\n",
        "dyp"
      ],
      "metadata": {
        "colab": {
          "base_uri": "https://localhost:8080/"
        },
        "id": "w2gvkNh8VGdf",
        "outputId": "63e1b575-1932-4c5a-8731-a6dd7a56b40e"
      },
      "execution_count": 32,
      "outputs": [
        {
          "output_type": "execute_result",
          "data": {
            "text/plain": [
              "age\n",
              "5.0      823438.461538\n",
              "6.0      509066.500000\n",
              "7.0      499540.594059\n",
              "8.0      424651.330798\n",
              "9.0      427001.683502\n",
              "             ...      \n",
              "132.0    528200.000000\n",
              "142.0    101800.000000\n",
              "152.0    369650.000000\n",
              "190.0    632200.000000\n",
              "223.0    778900.000000\n",
              "Name: TotalValue, Length: 127, dtype: float64"
            ]
          },
          "metadata": {},
          "execution_count": 32
        }
      ]
    },
    {
      "cell_type": "code",
      "source": [
        "sns.set(rc={'figure.figsize':(60,6)})\n",
        "sns.barplot(x=dyp.index,y=dyp.values)"
      ],
      "metadata": {
        "colab": {
          "base_uri": "https://localhost:8080/",
          "height": 163
        },
        "id": "_XgSeOlbVS_M",
        "outputId": "c8e5de27-2c06-4042-f86a-00bbf0cd1a0a"
      },
      "execution_count": 33,
      "outputs": [
        {
          "output_type": "execute_result",
          "data": {
            "text/plain": [
              "<matplotlib.axes._subplots.AxesSubplot at 0x7fb4860504d0>"
            ]
          },
          "metadata": {},
          "execution_count": 33
        },
        {
          "output_type": "display_data",
          "data": {
            "text/plain": [
              "<Figure size 4320x432 with 1 Axes>"
            ],
            "image/png": "[encoded data removed]"
          },
          "metadata": {}
        }
      ]
    },
    {
      "cell_type": "markdown",
      "source": [
        "1.Have the number of rooms in the house affected the price?"
      ],
      "metadata": {
        "id": "bad62aWwV2eL"
      }
    },
    {
      "cell_type": "code",
      "source": [
        "sns.set(rc={'figure.figsize':(10,5)})\n",
        "sns.scatterplot(data['TotalRooms'],data[\"TotalValue\"])"
      ],
      "metadata": {
        "colab": {
          "base_uri": "https://localhost:8080/",
          "height": 524
        },
        "id": "_yIjltosWGPu",
        "outputId": "e71d7c32-8a0d-47e3-f864-43bc6ed6e930"
      },
      "execution_count": 35,
      "outputs": [
        {
          "output_type": "error",
          "ename": "KeyError",
          "evalue": "ignored",
          "traceback": [
            "\u001b[0;31m---------------------------------------------------------------------------\u001b[0m",
            "\u001b[0;31mKeyError\u001b[0m                                  Traceback (most recent call last)",
            "\u001b[0;32m/usr/local/lib/python3.7/dist-packages/pandas/core/indexes/base.py\u001b[0m in \u001b[0;36mget_loc\u001b[0;34m(self, key, method, tolerance)\u001b[0m\n\u001b[1;32m   3360\u001b[0m             \u001b[0;32mtry\u001b[0m\u001b[0;34m:\u001b[0m\u001b[0;34m\u001b[0m\u001b[0;34m\u001b[0m\u001b[0m\n\u001b[0;32m-> 3361\u001b[0;31m                 \u001b[0;32mreturn\u001b[0m \u001b[0mself\u001b[0m\u001b[0;34m.\u001b[0m\u001b[0m_engine\u001b[0m\u001b[0;34m.\u001b[0m\u001b[0mget_loc\u001b[0m\u001b[0;34m(\u001b[0m\u001b[0mcasted_key\u001b[0m\u001b[0;34m)\u001b[0m\u001b[0;34m\u001b[0m\u001b[0;34m\u001b[0m\u001b[0m\n\u001b[0m\u001b[1;32m   3362\u001b[0m             \u001b[0;32mexcept\u001b[0m \u001b[0mKeyError\u001b[0m \u001b[0;32mas\u001b[0m \u001b[0merr\u001b[0m\u001b[0;34m:\u001b[0m\u001b[0;34m\u001b[0m\u001b[0;34m\u001b[0m\u001b[0m\n",
            "\u001b[0;32m/usr/local/lib/python3.7/dist-packages/pandas/_libs/index.pyx\u001b[0m in \u001b[0;36mpandas._libs.index.IndexEngine.get_loc\u001b[0;34m()\u001b[0m\n",
            "\u001b[0;32m/usr/local/lib/python3.7/dist-packages/pandas/_libs/index.pyx\u001b[0m in \u001b[0;36mpandas._libs.index.IndexEngine.get_loc\u001b[0;34m()\u001b[0m\n",
            "\u001b[0;32mpandas/_libs/hashtable_class_helper.pxi\u001b[0m in \u001b[0;36mpandas._libs.hashtable.PyObjectHashTable.get_item\u001b[0;34m()\u001b[0m\n",
            "\u001b[0;32mpandas/_libs/hashtable_class_helper.pxi\u001b[0m in \u001b[0;36mpandas._libs.hashtable.PyObjectHashTable.get_item\u001b[0;34m()\u001b[0m\n",
            "\u001b[0;31mKeyError\u001b[0m: 'TotalRooms'",
            "\nThe above exception was the direct cause of the following exception:\n",
            "\u001b[0;31mKeyError\u001b[0m                                  Traceback (most recent call last)",
            "\u001b[0;32m<ipython-input-35-09635a50849a>\u001b[0m in \u001b[0;36m<module>\u001b[0;34m\u001b[0m\n\u001b[1;32m      1\u001b[0m \u001b[0msns\u001b[0m\u001b[0;34m.\u001b[0m\u001b[0mset\u001b[0m\u001b[0;34m(\u001b[0m\u001b[0mrc\u001b[0m\u001b[0;34m=\u001b[0m\u001b[0;34m{\u001b[0m\u001b[0;34m'figure.figsize'\u001b[0m\u001b[0;34m:\u001b[0m\u001b[0;34m(\u001b[0m\u001b[0;36m10\u001b[0m\u001b[0;34m,\u001b[0m\u001b[0;36m5\u001b[0m\u001b[0;34m)\u001b[0m\u001b[0;34m}\u001b[0m\u001b[0;34m)\u001b[0m\u001b[0;34m\u001b[0m\u001b[0;34m\u001b[0m\u001b[0m\n\u001b[0;32m----> 2\u001b[0;31m \u001b[0msns\u001b[0m\u001b[0;34m.\u001b[0m\u001b[0mscatterplot\u001b[0m\u001b[0;34m(\u001b[0m\u001b[0mdata\u001b[0m\u001b[0;34m[\u001b[0m\u001b[0;34m'TotalRooms'\u001b[0m\u001b[0;34m]\u001b[0m\u001b[0;34m,\u001b[0m\u001b[0mdata\u001b[0m\u001b[0;34m[\u001b[0m\u001b[0;34m\"TotalValue\"\u001b[0m\u001b[0;34m]\u001b[0m\u001b[0;34m)\u001b[0m\u001b[0;34m\u001b[0m\u001b[0;34m\u001b[0m\u001b[0m\n\u001b[0m",
            "\u001b[0;32m/usr/local/lib/python3.7/dist-packages/pandas/core/frame.py\u001b[0m in \u001b[0;36m__getitem__\u001b[0;34m(self, key)\u001b[0m\n\u001b[1;32m   3456\u001b[0m             \u001b[0;32mif\u001b[0m \u001b[0mself\u001b[0m\u001b[0;34m.\u001b[0m\u001b[0mcolumns\u001b[0m\u001b[0;34m.\u001b[0m\u001b[0mnlevels\u001b[0m \u001b[0;34m>\u001b[0m \u001b[0;36m1\u001b[0m\u001b[0;34m:\u001b[0m\u001b[0;34m\u001b[0m\u001b[0;34m\u001b[0m\u001b[0m\n\u001b[1;32m   3457\u001b[0m                 \u001b[0;32mreturn\u001b[0m \u001b[0mself\u001b[0m\u001b[0;34m.\u001b[0m\u001b[0m_getitem_multilevel\u001b[0m\u001b[0;34m(\u001b[0m\u001b[0mkey\u001b[0m\u001b[0;34m)\u001b[0m\u001b[0;34m\u001b[0m\u001b[0;34m\u001b[0m\u001b[0m\n\u001b[0;32m-> 3458\u001b[0;31m             \u001b[0mindexer\u001b[0m \u001b[0;34m=\u001b[0m \u001b[0mself\u001b[0m\u001b[0;34m.\u001b[0m\u001b[0mcolumns\u001b[0m\u001b[0;34m.\u001b[0m\u001b[0mget_loc\u001b[0m\u001b[0;34m(\u001b[0m\u001b[0mkey\u001b[0m\u001b[0;34m)\u001b[0m\u001b[0;34m\u001b[0m\u001b[0;34m\u001b[0m\u001b[0m\n\u001b[0m\u001b[1;32m   3459\u001b[0m             \u001b[0;32mif\u001b[0m \u001b[0mis_integer\u001b[0m\u001b[0;34m(\u001b[0m\u001b[0mindexer\u001b[0m\u001b[0;34m)\u001b[0m\u001b[0;34m:\u001b[0m\u001b[0;34m\u001b[0m\u001b[0;34m\u001b[0m\u001b[0m\n\u001b[1;32m   3460\u001b[0m                 \u001b[0mindexer\u001b[0m \u001b[0;34m=\u001b[0m \u001b[0;34m[\u001b[0m\u001b[0mindexer\u001b[0m\u001b[0;34m]\u001b[0m\u001b[0;34m\u001b[0m\u001b[0;34m\u001b[0m\u001b[0m\n",
            "\u001b[0;32m/usr/local/lib/python3.7/dist-packages/pandas/core/indexes/base.py\u001b[0m in \u001b[0;36mget_loc\u001b[0;34m(self, key, method, tolerance)\u001b[0m\n\u001b[1;32m   3361\u001b[0m                 \u001b[0;32mreturn\u001b[0m \u001b[0mself\u001b[0m\u001b[0;34m.\u001b[0m\u001b[0m_engine\u001b[0m\u001b[0;34m.\u001b[0m\u001b[0mget_loc\u001b[0m\u001b[0;34m(\u001b[0m\u001b[0mcasted_key\u001b[0m\u001b[0;34m)\u001b[0m\u001b[0;34m\u001b[0m\u001b[0;34m\u001b[0m\u001b[0m\n\u001b[1;32m   3362\u001b[0m             \u001b[0;32mexcept\u001b[0m \u001b[0mKeyError\u001b[0m \u001b[0;32mas\u001b[0m \u001b[0merr\u001b[0m\u001b[0;34m:\u001b[0m\u001b[0;34m\u001b[0m\u001b[0;34m\u001b[0m\u001b[0m\n\u001b[0;32m-> 3363\u001b[0;31m                 \u001b[0;32mraise\u001b[0m \u001b[0mKeyError\u001b[0m\u001b[0;34m(\u001b[0m\u001b[0mkey\u001b[0m\u001b[0;34m)\u001b[0m \u001b[0;32mfrom\u001b[0m \u001b[0merr\u001b[0m\u001b[0;34m\u001b[0m\u001b[0;34m\u001b[0m\u001b[0m\n\u001b[0m\u001b[1;32m   3364\u001b[0m \u001b[0;34m\u001b[0m\u001b[0m\n\u001b[1;32m   3365\u001b[0m         \u001b[0;32mif\u001b[0m \u001b[0mis_scalar\u001b[0m\u001b[0;34m(\u001b[0m\u001b[0mkey\u001b[0m\u001b[0;34m)\u001b[0m \u001b[0;32mand\u001b[0m \u001b[0misna\u001b[0m\u001b[0;34m(\u001b[0m\u001b[0mkey\u001b[0m\u001b[0;34m)\u001b[0m \u001b[0;32mand\u001b[0m \u001b[0;32mnot\u001b[0m \u001b[0mself\u001b[0m\u001b[0;34m.\u001b[0m\u001b[0mhasnans\u001b[0m\u001b[0;34m:\u001b[0m\u001b[0;34m\u001b[0m\u001b[0;34m\u001b[0m\u001b[0m\n",
            "\u001b[0;31mKeyError\u001b[0m: 'TotalRooms'"
          ]
        }
      ]
    },
    {
      "cell_type": "code",
      "source": [
        "data['TotalRooms'] = data['Bedrooms'] + data['FullBathroom'] + data['HalfBathroom']\n",
        "data['TotalRooms']"
      ],
      "metadata": {
        "colab": {
          "base_uri": "https://localhost:8080/",
          "height": 524
        },
        "id": "N8fmpRrnXpLl",
        "outputId": "a2f4c08d-0073-4777-842d-a39a4e825630"
      },
      "execution_count": 27,
      "outputs": [
        {
          "output_type": "error",
          "ename": "KeyError",
          "evalue": "ignored",
          "traceback": [
            "\u001b[0;31m---------------------------------------------------------------------------\u001b[0m",
            "\u001b[0;31mKeyError\u001b[0m                                  Traceback (most recent call last)",
            "\u001b[0;32m/usr/local/lib/python3.7/dist-packages/pandas/core/indexes/base.py\u001b[0m in \u001b[0;36mget_loc\u001b[0;34m(self, key, method, tolerance)\u001b[0m\n\u001b[1;32m   3360\u001b[0m             \u001b[0;32mtry\u001b[0m\u001b[0;34m:\u001b[0m\u001b[0;34m\u001b[0m\u001b[0;34m\u001b[0m\u001b[0m\n\u001b[0;32m-> 3361\u001b[0;31m                 \u001b[0;32mreturn\u001b[0m \u001b[0mself\u001b[0m\u001b[0;34m.\u001b[0m\u001b[0m_engine\u001b[0m\u001b[0;34m.\u001b[0m\u001b[0mget_loc\u001b[0m\u001b[0;34m(\u001b[0m\u001b[0mcasted_key\u001b[0m\u001b[0;34m)\u001b[0m\u001b[0;34m\u001b[0m\u001b[0;34m\u001b[0m\u001b[0m\n\u001b[0m\u001b[1;32m   3362\u001b[0m             \u001b[0;32mexcept\u001b[0m \u001b[0mKeyError\u001b[0m \u001b[0;32mas\u001b[0m \u001b[0merr\u001b[0m\u001b[0;34m:\u001b[0m\u001b[0;34m\u001b[0m\u001b[0;34m\u001b[0m\u001b[0m\n",
            "\u001b[0;32m/usr/local/lib/python3.7/dist-packages/pandas/_libs/index.pyx\u001b[0m in \u001b[0;36mpandas._libs.index.IndexEngine.get_loc\u001b[0;34m()\u001b[0m\n",
            "\u001b[0;32m/usr/local/lib/python3.7/dist-packages/pandas/_libs/index.pyx\u001b[0m in \u001b[0;36mpandas._libs.index.IndexEngine.get_loc\u001b[0;34m()\u001b[0m\n",
            "\u001b[0;32mpandas/_libs/hashtable_class_helper.pxi\u001b[0m in \u001b[0;36mpandas._libs.hashtable.PyObjectHashTable.get_item\u001b[0;34m()\u001b[0m\n",
            "\u001b[0;32mpandas/_libs/hashtable_class_helper.pxi\u001b[0m in \u001b[0;36mpandas._libs.hashtable.PyObjectHashTable.get_item\u001b[0;34m()\u001b[0m\n",
            "\u001b[0;31mKeyError\u001b[0m: 'FullBathroom'",
            "\nThe above exception was the direct cause of the following exception:\n",
            "\u001b[0;31mKeyError\u001b[0m                                  Traceback (most recent call last)",
            "\u001b[0;32m<ipython-input-27-93b3e2a399a8>\u001b[0m in \u001b[0;36m<module>\u001b[0;34m\u001b[0m\n\u001b[0;32m----> 1\u001b[0;31m \u001b[0mdata\u001b[0m\u001b[0;34m[\u001b[0m\u001b[0;34m'TotalRooms'\u001b[0m\u001b[0;34m]\u001b[0m\u001b[0;34m=\u001b[0m\u001b[0mdata\u001b[0m\u001b[0;34m[\u001b[0m\u001b[0;34m'Bedrooms'\u001b[0m\u001b[0;34m]\u001b[0m \u001b[0;34m+\u001b[0m \u001b[0mdata\u001b[0m\u001b[0;34m[\u001b[0m\u001b[0;34m'FullBathroom'\u001b[0m\u001b[0;34m]\u001b[0m \u001b[0;34m+\u001b[0m \u001b[0mdata\u001b[0m\u001b[0;34m[\u001b[0m\u001b[0;34m'HalfBathroom'\u001b[0m\u001b[0;34m]\u001b[0m\u001b[0;34m\u001b[0m\u001b[0;34m\u001b[0m\u001b[0m\n\u001b[0m\u001b[1;32m      2\u001b[0m \u001b[0mdata\u001b[0m\u001b[0;34m[\u001b[0m\u001b[0;34m'TotalRooms'\u001b[0m\u001b[0;34m]\u001b[0m\u001b[0;34m\u001b[0m\u001b[0;34m\u001b[0m\u001b[0m\n",
            "\u001b[0;32m/usr/local/lib/python3.7/dist-packages/pandas/core/frame.py\u001b[0m in \u001b[0;36m__getitem__\u001b[0;34m(self, key)\u001b[0m\n\u001b[1;32m   3456\u001b[0m             \u001b[0;32mif\u001b[0m \u001b[0mself\u001b[0m\u001b[0;34m.\u001b[0m\u001b[0mcolumns\u001b[0m\u001b[0;34m.\u001b[0m\u001b[0mnlevels\u001b[0m \u001b[0;34m>\u001b[0m \u001b[0;36m1\u001b[0m\u001b[0;34m:\u001b[0m\u001b[0;34m\u001b[0m\u001b[0;34m\u001b[0m\u001b[0m\n\u001b[1;32m   3457\u001b[0m                 \u001b[0;32mreturn\u001b[0m \u001b[0mself\u001b[0m\u001b[0;34m.\u001b[0m\u001b[0m_getitem_multilevel\u001b[0m\u001b[0;34m(\u001b[0m\u001b[0mkey\u001b[0m\u001b[0;34m)\u001b[0m\u001b[0;34m\u001b[0m\u001b[0;34m\u001b[0m\u001b[0m\n\u001b[0;32m-> 3458\u001b[0;31m             \u001b[0mindexer\u001b[0m \u001b[0;34m=\u001b[0m \u001b[0mself\u001b[0m\u001b[0;34m.\u001b[0m\u001b[0mcolumns\u001b[0m\u001b[0;34m.\u001b[0m\u001b[0mget_loc\u001b[0m\u001b[0;34m(\u001b[0m\u001b[0mkey\u001b[0m\u001b[0;34m)\u001b[0m\u001b[0;34m\u001b[0m\u001b[0;34m\u001b[0m\u001b[0m\n\u001b[0m\u001b[1;32m   3459\u001b[0m             \u001b[0;32mif\u001b[0m \u001b[0mis_integer\u001b[0m\u001b[0;34m(\u001b[0m\u001b[0mindexer\u001b[0m\u001b[0;34m)\u001b[0m\u001b[0;34m:\u001b[0m\u001b[0;34m\u001b[0m\u001b[0;34m\u001b[0m\u001b[0m\n\u001b[1;32m   3460\u001b[0m                 \u001b[0mindexer\u001b[0m \u001b[0;34m=\u001b[0m \u001b[0;34m[\u001b[0m\u001b[0mindexer\u001b[0m\u001b[0;34m]\u001b[0m\u001b[0;34m\u001b[0m\u001b[0;34m\u001b[0m\u001b[0m\n",
            "\u001b[0;32m/usr/local/lib/python3.7/dist-packages/pandas/core/indexes/base.py\u001b[0m in \u001b[0;36mget_loc\u001b[0;34m(self, key, method, tolerance)\u001b[0m\n\u001b[1;32m   3361\u001b[0m                 \u001b[0;32mreturn\u001b[0m \u001b[0mself\u001b[0m\u001b[0;34m.\u001b[0m\u001b[0m_engine\u001b[0m\u001b[0;34m.\u001b[0m\u001b[0mget_loc\u001b[0m\u001b[0;34m(\u001b[0m\u001b[0mcasted_key\u001b[0m\u001b[0;34m)\u001b[0m\u001b[0;34m\u001b[0m\u001b[0;34m\u001b[0m\u001b[0m\n\u001b[1;32m   3362\u001b[0m             \u001b[0;32mexcept\u001b[0m \u001b[0mKeyError\u001b[0m \u001b[0;32mas\u001b[0m \u001b[0merr\u001b[0m\u001b[0;34m:\u001b[0m\u001b[0;34m\u001b[0m\u001b[0;34m\u001b[0m\u001b[0m\n\u001b[0;32m-> 3363\u001b[0;31m                 \u001b[0;32mraise\u001b[0m \u001b[0mKeyError\u001b[0m\u001b[0;34m(\u001b[0m\u001b[0mkey\u001b[0m\u001b[0;34m)\u001b[0m \u001b[0;32mfrom\u001b[0m \u001b[0merr\u001b[0m\u001b[0;34m\u001b[0m\u001b[0;34m\u001b[0m\u001b[0m\n\u001b[0m\u001b[1;32m   3364\u001b[0m \u001b[0;34m\u001b[0m\u001b[0m\n\u001b[1;32m   3365\u001b[0m         \u001b[0;32mif\u001b[0m \u001b[0mis_scalar\u001b[0m\u001b[0;34m(\u001b[0m\u001b[0mkey\u001b[0m\u001b[0;34m)\u001b[0m \u001b[0;32mand\u001b[0m \u001b[0misna\u001b[0m\u001b[0;34m(\u001b[0m\u001b[0mkey\u001b[0m\u001b[0;34m)\u001b[0m \u001b[0;32mand\u001b[0m \u001b[0;32mnot\u001b[0m \u001b[0mself\u001b[0m\u001b[0;34m.\u001b[0m\u001b[0mhasnans\u001b[0m\u001b[0;34m:\u001b[0m\u001b[0;34m\u001b[0m\u001b[0;34m\u001b[0m\u001b[0m\n",
            "\u001b[0;31mKeyError\u001b[0m: 'FullBathroom'"
          ]
        }
      ]
    },
    {
      "cell_type": "markdown",
      "source": [
        "7.Does the sizeof the property (n.of acres)have any influence in its price?"
      ],
      "metadata": {
        "id": "sC2yP3XzZfh6"
      }
    },
    {
      "cell_type": "code",
      "source": [
        "property_grouped_data=data.groupby('Acre')['TotalValue'].mean()\n",
        "property_grouped_data"
      ],
      "metadata": {
        "colab": {
          "base_uri": "https://localhost:8080/"
        },
        "id": "-9LwxF9iZxrg",
        "outputId": "e3f09b27-1ca4-47a3-870e-79c5a715a809"
      },
      "execution_count": 28,
      "outputs": [
        {
          "output_type": "execute_result",
          "data": {
            "text/plain": [
              "Acre\n",
              "0.01      4.500000e+02\n",
              "0.02      1.083333e+03\n",
              "0.03      9.333333e+02\n",
              "0.04      4.390000e+04\n",
              "0.05      5.682727e+04\n",
              "              ...     \n",
              "47.50     1.494950e+05\n",
              "51.34     6.435000e+05\n",
              "62.96     9.444000e+05\n",
              "68.79     5.832000e+04\n",
              "160.06    1.921700e+06\n",
              "Name: TotalValue, Length: 520, dtype: float64"
            ]
          },
          "metadata": {},
          "execution_count": 28
        }
      ]
    },
    {
      "cell_type": "code",
      "source": [
        "np.corrcoef(property_grouped_data.index,property_grouped_data.values)\n"
      ],
      "metadata": {
        "colab": {
          "base_uri": "https://localhost:8080/"
        },
        "id": "1wL-d5tMaKTM",
        "outputId": "935ac4b7-23ac-44cd-8654-0db3b25c1cba"
      },
      "execution_count": 29,
      "outputs": [
        {
          "output_type": "execute_result",
          "data": {
            "text/plain": [
              "array([[1.        , 0.16965822],\n",
              "       [0.16965822, 1.        ]])"
            ]
          },
          "metadata": {},
          "execution_count": 29
        }
      ]
    },
    {
      "cell_type": "code",
      "source": [
        "sns,set(rc={'figure.figsize':(10,5)})\n",
        "sns.scatterplot(x=property_grouped_data.index, y=property_grouped_data.values)"
      ],
      "metadata": {
        "colab": {
          "base_uri": "https://localhost:8080/",
          "height": 190
        },
        "id": "x0vXncl-aYRU",
        "outputId": "d94ea9d8-d18d-4407-92d7-bad767bd0d46"
      },
      "execution_count": 30,
      "outputs": [
        {
          "output_type": "error",
          "ename": "TypeError",
          "evalue": "ignored",
          "traceback": [
            "\u001b[0;31m---------------------------------------------------------------------------\u001b[0m",
            "\u001b[0;31mTypeError\u001b[0m                                 Traceback (most recent call last)",
            "\u001b[0;32m<ipython-input-30-cc66fd1a7a5a>\u001b[0m in \u001b[0;36m<module>\u001b[0;34m\u001b[0m\n\u001b[0;32m----> 1\u001b[0;31m \u001b[0msns\u001b[0m\u001b[0;34m,\u001b[0m\u001b[0mset\u001b[0m\u001b[0;34m(\u001b[0m\u001b[0mrc\u001b[0m\u001b[0;34m=\u001b[0m\u001b[0;34m{\u001b[0m\u001b[0;34m'figure.figsize'\u001b[0m\u001b[0;34m:\u001b[0m\u001b[0;34m(\u001b[0m\u001b[0;36m10\u001b[0m\u001b[0;34m,\u001b[0m\u001b[0;36m5\u001b[0m\u001b[0;34m)\u001b[0m\u001b[0;34m}\u001b[0m\u001b[0;34m)\u001b[0m\u001b[0;34m\u001b[0m\u001b[0;34m\u001b[0m\u001b[0m\n\u001b[0m\u001b[1;32m      2\u001b[0m \u001b[0msns\u001b[0m\u001b[0;34m.\u001b[0m\u001b[0mscatterplot\u001b[0m\u001b[0;34m(\u001b[0m\u001b[0mx\u001b[0m\u001b[0;34m=\u001b[0m\u001b[0mproperty_grouped_data\u001b[0m\u001b[0;34m.\u001b[0m\u001b[0mindex\u001b[0m\u001b[0;34m,\u001b[0m \u001b[0my\u001b[0m\u001b[0;34m=\u001b[0m\u001b[0mproperty_grouped_data\u001b[0m\u001b[0;34m.\u001b[0m\u001b[0mvalues\u001b[0m\u001b[0;34m)\u001b[0m\u001b[0;34m\u001b[0m\u001b[0;34m\u001b[0m\u001b[0m\n",
            "\u001b[0;31mTypeError\u001b[0m: set() takes no keyword arguments"
          ]
        }
      ]
    }
  ]
}